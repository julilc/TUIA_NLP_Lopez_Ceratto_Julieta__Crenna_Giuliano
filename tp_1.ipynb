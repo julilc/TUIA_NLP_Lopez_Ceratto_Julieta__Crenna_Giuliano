{
 "cells": [
  {
   "cell_type": "markdown",
   "metadata": {},
   "source": [
    "# UNR - FCEIA \n",
    "## Tecnicatura Universitaria en Programación \n",
    "### NLP: Trabajo Práctico N°1 \n",
    "\n",
    "---\n",
    "\n",
    "**Integrantes**\n",
    "- López Ceratto, Julieta : L-3311/1\n",
    "- Crenna, Giuliano : C-7438/1"
   ]
  },
  {
   "cell_type": "markdown",
   "metadata": {},
   "source": [
    "# Importamos librerías necesarias"
   ]
  },
  {
   "cell_type": "code",
   "execution_count": 86,
   "metadata": {},
   "outputs": [],
   "source": [
    "import os\n",
    "import pandas as pd\n",
    "import pickle\n",
    "\n",
    "from typing import List, Dict, Any\n",
    "\n",
    "from sklearn.feature_extraction.text import TfidfVectorizer\n",
    "from sklearn.model_selection import train_test_split\n",
    "from sklearn.naive_bayes import MultinomialNB\n",
    "from sklearn.pipeline import make_pipeline\n",
    "from sklearn.metrics import classification_report"
   ]
  },
  {
   "cell_type": "code",
   "execution_count": 27,
   "metadata": {},
   "outputs": [],
   "source": [
    "import warnings\n",
    "warnings.filterwarnings(\"ignore\")"
   ]
  },
  {
   "cell_type": "markdown",
   "metadata": {},
   "source": [
    "# Carga de datasets"
   ]
  },
  {
   "cell_type": "code",
   "execution_count": 2,
   "metadata": {},
   "outputs": [],
   "source": [
    "JUEGOS_PATH: str = os.path.join(os.getcwd(), 'data', 'bgg_database.csv')\n",
    "PELICULAS_PATH: str = os.path.join(os.getcwd(), 'data', 'IMDB-Movie-Data.csv')\n",
    "LIBROS_PATH: str = os.path.join(os.getcwd(), 'data', 'dataset_libros.csv')"
   ]
  },
  {
   "cell_type": "code",
   "execution_count": 3,
   "metadata": {},
   "outputs": [],
   "source": [
    "dataset_juegos: pd.DataFrame = pd.read_csv(JUEGOS_PATH)\n",
    "dataset_peliculas: pd.DataFrame = pd.read_csv(PELICULAS_PATH)\n",
    "dataset_libros: pd.DataFrame = pd.read_csv(LIBROS_PATH)"
   ]
  },
  {
   "cell_type": "markdown",
   "metadata": {},
   "source": [
    "## Traducciones de Datasets"
   ]
  },
  {
   "cell_type": "code",
   "execution_count": null,
   "metadata": {},
   "outputs": [],
   "source": []
  },
  {
   "cell_type": "markdown",
   "metadata": {},
   "source": [
    "# Modelo de Análisis de Sentimientos"
   ]
  },
  {
   "cell_type": "markdown",
   "metadata": {},
   "source": [
    "Creo un dataset sencillo para entrenar al clasificador."
   ]
  },
  {
   "cell_type": "code",
   "execution_count": 72,
   "metadata": {},
   "outputs": [],
   "source": [
    "ESTADOS_ANIMO_PATH: str = os.path.join(os.getcwd(), 'data', 'estados_de_animo.csv')"
   ]
  },
  {
   "cell_type": "code",
   "execution_count": 73,
   "metadata": {},
   "outputs": [],
   "source": [
    "df_estados_de_animo: pd.DataFrame = pd.read_csv(ESTADOS_ANIMO_PATH)\n",
    "\n",
    "X: pd.Series = df_estados_de_animo['prompt']\n",
    "y: pd.Series = df_estados_de_animo['estado_animo']"
   ]
  },
  {
   "cell_type": "markdown",
   "metadata": {},
   "source": [
    "Hacemos un split de los datos y creamos un pipeline de trabajo utilizando el clasificador **MultinomialNB**."
   ]
  },
  {
   "cell_type": "code",
   "execution_count": 74,
   "metadata": {},
   "outputs": [],
   "source": [
    "X_train, X_test, y_train, y_test = train_test_split(X, y, test_size=0.3, random_state=42)\n",
    "\n",
    "modelo_animo = make_pipeline(TfidfVectorizer(), MultinomialNB())"
   ]
  },
  {
   "cell_type": "code",
   "execution_count": 75,
   "metadata": {},
   "outputs": [
    {
     "name": "stdout",
     "output_type": "stream",
     "text": [
      "              precision    recall  f1-score   support\n",
      "\n",
      "      Alegre       1.00      0.96      0.98        79\n",
      " Melancólico       1.00      1.00      1.00        65\n",
      " Ni fu ni fa       0.96      1.00      0.98        76\n",
      "\n",
      "    accuracy                           0.99       220\n",
      "   macro avg       0.99      0.99      0.99       220\n",
      "weighted avg       0.99      0.99      0.99       220\n",
      "\n"
     ]
    }
   ],
   "source": [
    "modelo_animo.fit(X_train, y_train)\n",
    "\n",
    "y_pred = modelo_animo.predict(X_test)\n",
    "print(classification_report(y_test, y_pred))"
   ]
  },
  {
   "cell_type": "markdown",
   "metadata": {},
   "source": [
    "Creamos una función para clasificar el prompt del usuario."
   ]
  },
  {
   "cell_type": "code",
   "execution_count": 76,
   "metadata": {},
   "outputs": [],
   "source": [
    "def clasificar_animo(prompt_usuario: str) -> str:\n",
    "    estado_animo_predicho = modelo_animo.predict([prompt_usuario])[0]\n",
    "    \n",
    "    return estado_animo_predicho"
   ]
  },
  {
   "cell_type": "code",
   "execution_count": 77,
   "metadata": {},
   "outputs": [
    {
     "name": "stdout",
     "output_type": "stream",
     "text": [
      "Estado de ánimo: Ni fu ni fa\n"
     ]
    }
   ],
   "source": [
    "nuevo_prompt = \"La vida no significa nada\"\n",
    "\n",
    "print(f\"Estado de ánimo: {clasificar_animo(nuevo_prompt)}\")"
   ]
  },
  {
   "cell_type": "code",
   "execution_count": 78,
   "metadata": {},
   "outputs": [
    {
     "name": "stdout",
     "output_type": "stream",
     "text": [
      "Estado de ánimo: Alegre\n"
     ]
    }
   ],
   "source": [
    "nuevo_prompt = \"Me siento feliz\"\n",
    "\n",
    "print(f\"Estado de ánimo: {clasificar_animo(nuevo_prompt)}\")"
   ]
  },
  {
   "cell_type": "code",
   "execution_count": 85,
   "metadata": {},
   "outputs": [
    {
     "name": "stdout",
     "output_type": "stream",
     "text": [
      "Estado de ánimo: Melancólico\n"
     ]
    }
   ],
   "source": [
    "nuevo_prompt = \"El vacio se siente en mi\"\n",
    "\n",
    "print(f\"Estado de ánimo: {clasificar_animo(nuevo_prompt)}\")"
   ]
  },
  {
   "cell_type": "markdown",
   "metadata": {},
   "source": [
    "Exporto el modelo"
   ]
  },
  {
   "cell_type": "code",
   "execution_count": 89,
   "metadata": {},
   "outputs": [],
   "source": [
    "ESTADO_ANIMO_MODEL_PATH: str = os.path.join(os.getcwd(), 'models', 'modelo_estado_animo.pickle')\n",
    "\n",
    "pickle.dump(modelo_animo, open(ESTADO_ANIMO_MODEL_PATH, 'wb'))"
   ]
  },
  {
   "cell_type": "markdown",
   "metadata": {},
   "source": [
    "# Análisis Datasets"
   ]
  },
  {
   "cell_type": "markdown",
   "metadata": {},
   "source": [
    "## Análisis Dataset Juegos\n",
    "Como Vemos en el dataset de juegos no se presentan datos nulos."
   ]
  },
  {
   "cell_type": "code",
   "execution_count": 6,
   "metadata": {},
   "outputs": [
    {
     "data": {
      "text/plain": [
       "rank                0\n",
       "game_name           0\n",
       "game_href           0\n",
       "geek_rating         0\n",
       "avg_rating          0\n",
       "num_voters          0\n",
       "description         0\n",
       "yearpublished       0\n",
       "minplayers          0\n",
       "maxplayers          0\n",
       "minplaytime         0\n",
       "maxplaytime         0\n",
       "minage              0\n",
       "avgweight           0\n",
       "best_num_players    0\n",
       "designers           0\n",
       "mechanics           0\n",
       "categories          0\n",
       "dtype: int64"
      ]
     },
     "execution_count": 6,
     "metadata": {},
     "output_type": "execute_result"
    }
   ],
   "source": [
    "dataset_juegos.isna().sum()"
   ]
  },
  {
   "cell_type": "markdown",
   "metadata": {},
   "source": [
    "## Análisis Dataset Películas"
   ]
  },
  {
   "cell_type": "code",
   "execution_count": 7,
   "metadata": {},
   "outputs": [
    {
     "data": {
      "text/plain": [
       "Rank                  0\n",
       "Title                 0\n",
       "Genre                 0\n",
       "Description           0\n",
       "Director              0\n",
       "Actors                0\n",
       "Year                  0\n",
       "Runtime (Minutes)     0\n",
       "Rating                0\n",
       "Votes                 0\n",
       "Revenue (Millions)    0\n",
       "Metascore             0\n",
       "dtype: int64"
      ]
     },
     "execution_count": 7,
     "metadata": {},
     "output_type": "execute_result"
    }
   ],
   "source": [
    "dataset_peliculas.isna().sum()"
   ]
  },
  {
   "cell_type": "markdown",
   "metadata": {},
   "source": [
    "## Dataset Libros\n",
    "De los 5984 libros dentro del dataset, solo 53 tiene titulo secundario y solo 2796 libros tienen un autor registrado."
   ]
  },
  {
   "cell_type": "code",
   "execution_count": 9,
   "metadata": {},
   "outputs": [
    {
     "data": {
      "text/plain": [
       "(5984, 4)"
      ]
     },
     "execution_count": 9,
     "metadata": {},
     "output_type": "execute_result"
    }
   ],
   "source": [
    "dataset_libros.shape"
   ]
  },
  {
   "cell_type": "code",
   "execution_count": 8,
   "metadata": {},
   "outputs": [
    {
     "data": {
      "text/plain": [
       "Titulo Principal        0\n",
       "Titulo Secundario    5931\n",
       "Autor                3188\n",
       "N° Ref                  0\n",
       "dtype: int64"
      ]
     },
     "execution_count": 8,
     "metadata": {},
     "output_type": "execute_result"
    }
   ],
   "source": [
    "dataset_libros.isna().sum()"
   ]
  },
  {
   "cell_type": "markdown",
   "metadata": {},
   "source": [
    "# Apartado 1"
   ]
  },
  {
   "cell_type": "markdown",
   "metadata": {},
   "source": []
  }
 ],
 "metadata": {
  "kernelspec": {
   "display_name": "Python 3",
   "language": "python",
   "name": "python3"
  },
  "language_info": {
   "codemirror_mode": {
    "name": "ipython",
    "version": 3
   },
   "file_extension": ".py",
   "mimetype": "text/x-python",
   "name": "python",
   "nbconvert_exporter": "python",
   "pygments_lexer": "ipython3",
   "version": "3.11.0"
  }
 },
 "nbformat": 4,
 "nbformat_minor": 2
}
