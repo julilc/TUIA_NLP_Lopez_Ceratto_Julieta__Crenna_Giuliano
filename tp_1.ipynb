{
 "cells": [
  {
   "cell_type": "markdown",
   "metadata": {},
   "source": [
    "# UNR - FCEIA \n",
    "## Tecnicatura Universitaria en Programación \n",
    "### NLP: Trabajo Práctico N°1 \n",
    "\n",
    "---\n",
    "\n",
    "**Integrantes**\n",
    "- López Ceratto, Julieta : L-3311/1\n",
    "- Crenna, Giuliano : C-7438/1"
   ]
  },
  {
   "cell_type": "markdown",
   "metadata": {},
   "source": [
    "# Importamos librerías necesarias"
   ]
  },
  {
   "cell_type": "code",
   "execution_count": 26,
   "metadata": {},
   "outputs": [],
   "source": [
    "import os\n",
    "import pandas as pd\n",
    "import pickle\n",
    "from typing import List, Dict, Any\n",
    "from sklearn.feature_extraction.text import TfidfVectorizer\n",
    "from sklearn.model_selection import train_test_split\n",
    "from sklearn.naive_bayes import MultinomialNB\n",
    "from sklearn.pipeline import make_pipeline\n",
    "from sklearn.metrics import classification_report\n",
    "import tensorflow as tf\n",
    "import tensorflow_hub as hub\n",
    "from sklearn.neighbors import NearestNeighbors\n",
    "import numpy as np\n",
    "import tensorflow_text\n",
    "import spacy"
   ]
  },
  {
   "cell_type": "code",
   "execution_count": 27,
   "metadata": {},
   "outputs": [],
   "source": [
    "import warnings\n",
    "warnings.filterwarnings(\"ignore\")"
   ]
  },
  {
   "cell_type": "markdown",
   "metadata": {},
   "source": [
    "# Carga de datasets"
   ]
  },
  {
   "cell_type": "code",
   "execution_count": 28,
   "metadata": {},
   "outputs": [],
   "source": [
    "JUEGOS_PATH: str = os.path.join(os.getcwd(), 'data', 'bgg_database.csv')\n",
    "PELICULAS_PATH: str = os.path.join(os.getcwd(), 'data', 'IMDB-Movie-Data.csv')\n",
    "LIBROS_PATH: str = os.path.join(os.getcwd(), 'data', 'dataset_libros.csv')"
   ]
  },
  {
   "cell_type": "code",
   "execution_count": 29,
   "metadata": {},
   "outputs": [],
   "source": [
    "dataset_juegos: pd.DataFrame = pd.read_csv(JUEGOS_PATH)\n",
    "dataset_peliculas: pd.DataFrame = pd.read_csv(PELICULAS_PATH)\n",
    "dataset_libros: pd.DataFrame = pd.read_csv(LIBROS_PATH)"
   ]
  },
  {
   "cell_type": "code",
   "execution_count": 30,
   "metadata": {},
   "outputs": [
    {
     "data": {
      "text/plain": [
       "'\"Frankenstein; Or, The Modern Prometheus\" by Mary Wollstonecraft Shelley is a novel written in the early 19th century. The story explores themes of ambition, the quest for knowledge, and the consequences of man\\'s hubris through the experiences of Victor Frankenstein and the monstrous creation of his own making.   The opening of the book introduces Robert Walton, an ambitious explorer on a quest to discover new lands and knowledge in the icy regions of the Arctic. In his letters to his sister Margaret, he expresses both enthusiasm and the fear of isolation in his grand venture. As Walton\\'s expedition progresses, he encounters a mysterious, emaciated stranger who has faced great suffering—furthering the intrigue of his narrative. This stranger ultimately reveals his tale of creation, loss, and the profound consequences of seeking knowledge that lies beyond human bounds. The narrative is set up in a manner that suggests a deep examination of the emotions and ethical dilemmas faced by those who dare to defy the natural order. (This is an automatically generated summary.)'"
      ]
     },
     "execution_count": 30,
     "metadata": {},
     "output_type": "execute_result"
    }
   ],
   "source": [
    "dataset_libros['Resumen'][0]"
   ]
  },
  {
   "cell_type": "markdown",
   "metadata": {},
   "source": [
    "## Modificacion Resumen dataset_libros"
   ]
  },
  {
   "cell_type": "markdown",
   "metadata": {},
   "source": [
    "Dado que los resúmenes de los libros son muy largos y no disponemos de cómputo para hacer los embeddings, utilizamos spacy para acortarlos.1"
   ]
  },
  {
   "cell_type": "code",
   "execution_count": 31,
   "metadata": {},
   "outputs": [],
   "source": [
    "summary = spacy.load('en_core_web_sm')"
   ]
  },
  {
   "cell_type": "code",
   "execution_count": 32,
   "metadata": {},
   "outputs": [],
   "source": [
    "# Función para extraer palabras clave (sustantivos, adjetivos, etc.)\n",
    "def extraer_palabras_clave(texto):\n",
    "    doc = summary(texto)\n",
    "    palabras_clave = [token.text for token in doc if token.pos_ in {'NOUN'}]\n",
    "    return \" \".join(palabras_clave)"
   ]
  },
  {
   "cell_type": "code",
   "execution_count": null,
   "metadata": {},
   "outputs": [
    {
     "data": {
      "text/plain": [
       "899588"
      ]
     },
     "execution_count": 15,
     "metadata": {},
     "output_type": "execute_result"
    }
   ],
   "source": [
    "dataset_libros['Resumen'].str.split().str.len().sum()"
   ]
  },
  {
   "cell_type": "code",
   "execution_count": null,
   "metadata": {},
   "outputs": [
    {
     "data": {
      "text/plain": [
       "27921"
      ]
     },
     "execution_count": 10,
     "metadata": {},
     "output_type": "execute_result"
    }
   ],
   "source": [
    "dataset_peliculas['Description'].str.split().str.len().sum()"
   ]
  },
  {
   "cell_type": "markdown",
   "metadata": {},
   "source": [
    "# Modelo de Análisis de Sentimientos"
   ]
  },
  {
   "cell_type": "markdown",
   "metadata": {},
   "source": [
    "Creo un dataset sencillo para entrenar al clasificador."
   ]
  },
  {
   "cell_type": "code",
   "execution_count": 34,
   "metadata": {},
   "outputs": [],
   "source": [
    "ESTADOS_ANIMO_PATH: str = os.path.join(os.getcwd(), 'data', 'estados_de_animo.csv')"
   ]
  },
  {
   "cell_type": "code",
   "execution_count": 35,
   "metadata": {},
   "outputs": [],
   "source": [
    "df_estados_de_animo: pd.DataFrame = pd.read_csv(ESTADOS_ANIMO_PATH)\n",
    "\n",
    "X: pd.Series = df_estados_de_animo['prompt']\n",
    "y: pd.Series = df_estados_de_animo['estado_animo']"
   ]
  },
  {
   "cell_type": "markdown",
   "metadata": {},
   "source": [
    "Hacemos un split de los datos y creamos un pipeline de trabajo utilizando el clasificador **MultinomialNB**."
   ]
  },
  {
   "cell_type": "code",
   "execution_count": 36,
   "metadata": {},
   "outputs": [],
   "source": [
    "X_train, X_test, y_train, y_test = train_test_split(X, y, test_size=0.3, random_state=42)\n",
    "\n",
    "modelo_animo = make_pipeline(TfidfVectorizer(), MultinomialNB())"
   ]
  },
  {
   "cell_type": "code",
   "execution_count": 37,
   "metadata": {},
   "outputs": [
    {
     "name": "stdout",
     "output_type": "stream",
     "text": [
      "              precision    recall  f1-score   support\n",
      "\n",
      "      Alegre       1.00      0.96      0.98        79\n",
      " Melancólico       1.00      1.00      1.00        65\n",
      " Ni fu ni fa       0.96      1.00      0.98        76\n",
      "\n",
      "    accuracy                           0.99       220\n",
      "   macro avg       0.99      0.99      0.99       220\n",
      "weighted avg       0.99      0.99      0.99       220\n",
      "\n"
     ]
    }
   ],
   "source": [
    "modelo_animo.fit(X_train, y_train)\n",
    "\n",
    "y_pred = modelo_animo.predict(X_test)\n",
    "print(classification_report(y_test, y_pred))"
   ]
  },
  {
   "cell_type": "markdown",
   "metadata": {},
   "source": [
    "Creamos una función para clasificar el prompt del usuario."
   ]
  },
  {
   "cell_type": "code",
   "execution_count": 38,
   "metadata": {},
   "outputs": [],
   "source": [
    "def clasificar_animo(prompt_usuario: str) -> str:\n",
    "    estado_animo_predicho = modelo_animo.predict([prompt_usuario])[0]\n",
    "    \n",
    "    return estado_animo_predicho"
   ]
  },
  {
   "cell_type": "code",
   "execution_count": 39,
   "metadata": {},
   "outputs": [
    {
     "name": "stdout",
     "output_type": "stream",
     "text": [
      "Estado de ánimo: Ni fu ni fa\n"
     ]
    }
   ],
   "source": [
    "nuevo_prompt = \"La vida no significa nada\"\n",
    "\n",
    "print(f\"Estado de ánimo: {clasificar_animo(nuevo_prompt)}\")"
   ]
  },
  {
   "cell_type": "code",
   "execution_count": 40,
   "metadata": {},
   "outputs": [
    {
     "name": "stdout",
     "output_type": "stream",
     "text": [
      "Estado de ánimo: Alegre\n"
     ]
    }
   ],
   "source": [
    "nuevo_prompt = \"Me siento feliz\"\n",
    "\n",
    "print(f\"Estado de ánimo: {clasificar_animo(nuevo_prompt)}\")"
   ]
  },
  {
   "cell_type": "code",
   "execution_count": 41,
   "metadata": {},
   "outputs": [
    {
     "name": "stdout",
     "output_type": "stream",
     "text": [
      "Estado de ánimo: Melancólico\n"
     ]
    }
   ],
   "source": [
    "nuevo_prompt = \"El vacio se siente en mi\"\n",
    "\n",
    "print(f\"Estado de ánimo: {clasificar_animo(nuevo_prompt)}\")"
   ]
  },
  {
   "cell_type": "markdown",
   "metadata": {},
   "source": [
    "Exporto el modelo"
   ]
  },
  {
   "cell_type": "code",
   "execution_count": 42,
   "metadata": {},
   "outputs": [],
   "source": [
    "# ESTADO_ANIMO_MODEL_PATH: str = os.path.join(os.getcwd(), 'models', 'modelo_estado_animo.pickle')\n",
    "\n",
    "# pickle.dump(modelo_animo, open(ESTADO_ANIMO_MODEL_PATH, 'wb'))"
   ]
  },
  {
   "cell_type": "markdown",
   "metadata": {},
   "source": [
    "# Análisis Datasets"
   ]
  },
  {
   "cell_type": "markdown",
   "metadata": {},
   "source": [
    "## Análisis Dataset Juegos\n",
    "Como Vemos en el dataset de juegos no se presentan datos nulos."
   ]
  },
  {
   "cell_type": "code",
   "execution_count": 43,
   "metadata": {},
   "outputs": [
    {
     "data": {
      "text/plain": [
       "rank                0\n",
       "game_name           0\n",
       "game_href           0\n",
       "geek_rating         0\n",
       "avg_rating          0\n",
       "num_voters          0\n",
       "description         0\n",
       "yearpublished       0\n",
       "minplayers          0\n",
       "maxplayers          0\n",
       "minplaytime         0\n",
       "maxplaytime         0\n",
       "minage              0\n",
       "avgweight           0\n",
       "best_num_players    0\n",
       "designers           0\n",
       "mechanics           0\n",
       "categories          0\n",
       "dtype: int64"
      ]
     },
     "execution_count": 43,
     "metadata": {},
     "output_type": "execute_result"
    }
   ],
   "source": [
    "dataset_juegos.isna().sum()"
   ]
  },
  {
   "cell_type": "markdown",
   "metadata": {},
   "source": [
    "## Análisis Dataset Películas"
   ]
  },
  {
   "cell_type": "code",
   "execution_count": 44,
   "metadata": {},
   "outputs": [
    {
     "data": {
      "text/plain": [
       "Rank                  0\n",
       "Title                 0\n",
       "Genre                 0\n",
       "Description           0\n",
       "Director              0\n",
       "Actors                0\n",
       "Year                  0\n",
       "Runtime (Minutes)     0\n",
       "Rating                0\n",
       "Votes                 0\n",
       "Revenue (Millions)    0\n",
       "Metascore             0\n",
       "dtype: int64"
      ]
     },
     "execution_count": 44,
     "metadata": {},
     "output_type": "execute_result"
    }
   ],
   "source": [
    "dataset_peliculas.isna().sum()"
   ]
  },
  {
   "cell_type": "markdown",
   "metadata": {},
   "source": [
    "## Dataset Libros\n",
    "De los 5984 libros dentro del dataset, solo 53 tiene titulo secundario y solo 2796 libros tienen un autor registrado."
   ]
  },
  {
   "cell_type": "code",
   "execution_count": 45,
   "metadata": {},
   "outputs": [
    {
     "data": {
      "text/plain": [
       "(5986, 5)"
      ]
     },
     "execution_count": 45,
     "metadata": {},
     "output_type": "execute_result"
    }
   ],
   "source": [
    "dataset_libros.shape"
   ]
  },
  {
   "cell_type": "markdown",
   "metadata": {},
   "source": [
    "Como tenemos problemas de cómputo al hacer embeddings con casi 6000 libros, reducimos el dataset de libros al tamaño del de películas (1000). Además, nos aseguramos que de este dataset resumido sólo formen parte libros que tienen descripción."
   ]
  },
  {
   "cell_type": "code",
   "execution_count": 46,
   "metadata": {},
   "outputs": [],
   "source": [
    "dataset_libros_resumido = dataset_libros[dataset_libros['Resumen']!= 'Resumen no encontrado']"
   ]
  },
  {
   "cell_type": "markdown",
   "metadata": {},
   "source": [
    "Además, sacamos títulos repetidos."
   ]
  },
  {
   "cell_type": "code",
   "execution_count": 47,
   "metadata": {},
   "outputs": [],
   "source": [
    "dataset_libros_resumido.drop_duplicates(subset='Titulo Principal', inplace= True)"
   ]
  },
  {
   "cell_type": "code",
   "execution_count": 48,
   "metadata": {},
   "outputs": [],
   "source": [
    "dataset_libros_resumido = dataset_libros_resumido.sample(n = 1000, random_state= 42)"
   ]
  },
  {
   "cell_type": "code",
   "execution_count": 88,
   "metadata": {},
   "outputs": [],
   "source": [
    "dataset_libros_resumido.reset_index(drop=True, inplace=True)"
   ]
  },
  {
   "cell_type": "code",
   "execution_count": 50,
   "metadata": {},
   "outputs": [
    {
     "data": {
      "text/plain": [
       "(1000, 12)"
      ]
     },
     "execution_count": 50,
     "metadata": {},
     "output_type": "execute_result"
    }
   ],
   "source": [
    "dataset_peliculas.shape"
   ]
  },
  {
   "cell_type": "code",
   "execution_count": 51,
   "metadata": {},
   "outputs": [
    {
     "data": {
      "text/plain": [
       "Titulo Principal     0\n",
       "Titulo Secundario    0\n",
       "Autor                0\n",
       "N° Ref               0\n",
       "Resumen              0\n",
       "dtype: int64"
      ]
     },
     "execution_count": 51,
     "metadata": {},
     "output_type": "execute_result"
    }
   ],
   "source": [
    "dataset_libros.isna().sum()"
   ]
  },
  {
   "cell_type": "markdown",
   "metadata": {},
   "source": [
    "# Apartado 1"
   ]
  },
  {
   "cell_type": "markdown",
   "metadata": {},
   "source": []
  },
  {
   "cell_type": "markdown",
   "metadata": {},
   "source": [
    "## Implementación modelo KNN con encoder de tensorflow"
   ]
  },
  {
   "cell_type": "code",
   "execution_count": 53,
   "metadata": {},
   "outputs": [],
   "source": [
    "# Cargar Universal Sentence Encoder\n",
    "embed = hub.load(\"https://tfhub.dev/google/universal-sentence-encoder-multilingual/3\")"
   ]
  },
  {
   "cell_type": "code",
   "execution_count": 54,
   "metadata": {},
   "outputs": [],
   "source": [
    "def crear_embeding():\n",
    "    '''\n",
    "    Crea dataset de embedings para entrenar el modelo y realizar posterior búsqueda\n",
    "    en los resultados\n",
    "    '''\n",
    "    ###Agrega index y tipo a los dataset para luego recuperar el vecino más cercano\n",
    "    ### por índice.\n",
    "    dataset_juegos['index'] = [i for i in dataset_juegos.index]\n",
    "    dataset_juegos['tipo'] = 'juego'\n",
    "    dataset_libros_resumido['index'] = [i for i in dataset_libros_resumido.index]\n",
    "    dataset_libros_resumido['tipo'] = 'libro'\n",
    "    dataset_peliculas['index'] = [i for i in dataset_peliculas.index]\n",
    "    dataset_peliculas['tipo'] = 'pelicula'\n",
    "\n",
    "    ###Agrega una columna 'frase_embedding' que junta la información que se utilizará para entrenar\n",
    "    ### al modelo.\n",
    "    \n",
    "    # Para dataset_juegos\n",
    "    dataset_juegos['frase_embeding'] = dataset_juegos.apply(\n",
    "        lambda row: f\"{row['description']}, tipo juego, {row['maxplayers']}\", axis=1)\n",
    "\n",
    "    # Para dataset_peliculas\n",
    "    dataset_peliculas['frase_embeding'] = dataset_peliculas.apply(\n",
    "        lambda row: f\"{row['Description']}, tipo pelicula, {row['Genre']}\", axis=1)\n",
    "\n",
    "    # Para dataset_libros_resumido\n",
    "    dataset_libros_resumido['frase_embeding'] = dataset_libros_resumido.apply(\n",
    "        lambda row: f\"{row['Titulo Principal']}, tipo libro, {row['Autor']}, {row['Resumen']}\", axis=1)\n",
    "    \n",
    "    # Generar embeddings para cada conjunto de datos\n",
    "    embeding_juegos = embed(dataset_juegos['frase_embeding']).numpy()\n",
    "    embeding_libros = embed(dataset_libros_resumido['frase_embeding']).numpy()\n",
    "    embeding_peliculas = embed(dataset_peliculas['frase_embeding']).numpy()\n",
    "\n",
    "    # Crear DataFrames para los embeddings\n",
    "    embeding_juegos_df = pd.DataFrame(embeding_juegos)\n",
    "    embeding_libros_df = pd.DataFrame(embeding_libros)\n",
    "    embeding_peliculas_df = pd.DataFrame(embeding_peliculas)\n",
    "\n",
    "    # Añadir el índice y tipo a los DataFrames de embeddings\n",
    "    embeding_juegos_df['index'] = dataset_juegos['index']\n",
    "    embeding_libros_df['index'] = dataset_libros_resumido['index']\n",
    "    embeding_peliculas_df['index'] = dataset_peliculas['index']\n",
    "    embeding_juegos_df['tipo'] = dataset_juegos['tipo']\n",
    "    embeding_libros_df['tipo'] = dataset_libros_resumido['tipo']\n",
    "    embeding_peliculas_df['tipo'] = dataset_peliculas['tipo'] \n",
    "\n",
    "    # Concatenar todos los embeddings\n",
    "    embedings_totales = np.concatenate([embeding_juegos, embeding_libros, embeding_peliculas])\n",
    "    df_embedings_totales = pd.concat([embeding_juegos_df, embeding_libros_df, embeding_peliculas_df])\n",
    "    \n",
    "    # Guardar el DataFrame de embeddings en un archivo CSV\n",
    "    df_embedings_totales.to_csv('./data/embedings_totales.csv', index=False)\n"
   ]
  },
  {
   "cell_type": "code",
   "execution_count": 93,
   "metadata": {},
   "outputs": [],
   "source": [
    "crear_embeding()\n",
    "df_embedings_totales = pd.read_csv('./data/embedings_totales.csv')"
   ]
  },
  {
   "cell_type": "code",
   "execution_count": 56,
   "metadata": {},
   "outputs": [
    {
     "data": {
      "text/html": [
       "<div>\n",
       "<style scoped>\n",
       "    .dataframe tbody tr th:only-of-type {\n",
       "        vertical-align: middle;\n",
       "    }\n",
       "\n",
       "    .dataframe tbody tr th {\n",
       "        vertical-align: top;\n",
       "    }\n",
       "\n",
       "    .dataframe thead th {\n",
       "        text-align: right;\n",
       "    }\n",
       "</style>\n",
       "<table border=\"1\" class=\"dataframe\">\n",
       "  <thead>\n",
       "    <tr style=\"text-align: right;\">\n",
       "      <th></th>\n",
       "      <th>0</th>\n",
       "      <th>1</th>\n",
       "      <th>2</th>\n",
       "      <th>3</th>\n",
       "      <th>4</th>\n",
       "      <th>5</th>\n",
       "      <th>6</th>\n",
       "      <th>7</th>\n",
       "      <th>8</th>\n",
       "      <th>9</th>\n",
       "      <th>...</th>\n",
       "      <th>504</th>\n",
       "      <th>505</th>\n",
       "      <th>506</th>\n",
       "      <th>507</th>\n",
       "      <th>508</th>\n",
       "      <th>509</th>\n",
       "      <th>510</th>\n",
       "      <th>511</th>\n",
       "      <th>index</th>\n",
       "      <th>tipo</th>\n",
       "    </tr>\n",
       "  </thead>\n",
       "  <tbody>\n",
       "    <tr>\n",
       "      <th>0</th>\n",
       "      <td>-0.047936</td>\n",
       "      <td>0.068728</td>\n",
       "      <td>-0.042762</td>\n",
       "      <td>-0.057224</td>\n",
       "      <td>0.037448</td>\n",
       "      <td>0.066649</td>\n",
       "      <td>0.030122</td>\n",
       "      <td>-0.056059</td>\n",
       "      <td>0.069155</td>\n",
       "      <td>0.025768</td>\n",
       "      <td>...</td>\n",
       "      <td>-0.052796</td>\n",
       "      <td>0.049141</td>\n",
       "      <td>0.003954</td>\n",
       "      <td>0.052749</td>\n",
       "      <td>-0.028988</td>\n",
       "      <td>-0.046117</td>\n",
       "      <td>0.028948</td>\n",
       "      <td>-0.027748</td>\n",
       "      <td>0.0</td>\n",
       "      <td>juego</td>\n",
       "    </tr>\n",
       "    <tr>\n",
       "      <th>1</th>\n",
       "      <td>0.018236</td>\n",
       "      <td>0.027856</td>\n",
       "      <td>-0.064104</td>\n",
       "      <td>0.003759</td>\n",
       "      <td>0.034112</td>\n",
       "      <td>0.065483</td>\n",
       "      <td>-0.059687</td>\n",
       "      <td>0.053690</td>\n",
       "      <td>0.049393</td>\n",
       "      <td>0.020000</td>\n",
       "      <td>...</td>\n",
       "      <td>0.007075</td>\n",
       "      <td>-0.033128</td>\n",
       "      <td>-0.062432</td>\n",
       "      <td>-0.061036</td>\n",
       "      <td>-0.027173</td>\n",
       "      <td>-0.065109</td>\n",
       "      <td>0.056215</td>\n",
       "      <td>-0.057410</td>\n",
       "      <td>1.0</td>\n",
       "      <td>juego</td>\n",
       "    </tr>\n",
       "    <tr>\n",
       "      <th>2</th>\n",
       "      <td>-0.015504</td>\n",
       "      <td>0.058139</td>\n",
       "      <td>-0.069847</td>\n",
       "      <td>0.024894</td>\n",
       "      <td>0.042606</td>\n",
       "      <td>0.065332</td>\n",
       "      <td>0.001296</td>\n",
       "      <td>0.009519</td>\n",
       "      <td>0.062509</td>\n",
       "      <td>-0.036491</td>\n",
       "      <td>...</td>\n",
       "      <td>-0.022464</td>\n",
       "      <td>-0.062281</td>\n",
       "      <td>0.008048</td>\n",
       "      <td>-0.052787</td>\n",
       "      <td>-0.031792</td>\n",
       "      <td>-0.052469</td>\n",
       "      <td>0.053836</td>\n",
       "      <td>0.005630</td>\n",
       "      <td>2.0</td>\n",
       "      <td>juego</td>\n",
       "    </tr>\n",
       "    <tr>\n",
       "      <th>3</th>\n",
       "      <td>-0.008350</td>\n",
       "      <td>0.062483</td>\n",
       "      <td>-0.062257</td>\n",
       "      <td>-0.065673</td>\n",
       "      <td>0.062957</td>\n",
       "      <td>0.065244</td>\n",
       "      <td>-0.044344</td>\n",
       "      <td>-0.048647</td>\n",
       "      <td>0.059848</td>\n",
       "      <td>-0.067839</td>\n",
       "      <td>...</td>\n",
       "      <td>-0.025592</td>\n",
       "      <td>-0.009789</td>\n",
       "      <td>0.067237</td>\n",
       "      <td>0.024409</td>\n",
       "      <td>0.047927</td>\n",
       "      <td>-0.065013</td>\n",
       "      <td>-0.006761</td>\n",
       "      <td>-0.055704</td>\n",
       "      <td>3.0</td>\n",
       "      <td>juego</td>\n",
       "    </tr>\n",
       "    <tr>\n",
       "      <th>4</th>\n",
       "      <td>-0.011809</td>\n",
       "      <td>0.061071</td>\n",
       "      <td>-0.035048</td>\n",
       "      <td>-0.056053</td>\n",
       "      <td>0.055633</td>\n",
       "      <td>0.061631</td>\n",
       "      <td>0.034980</td>\n",
       "      <td>-0.050839</td>\n",
       "      <td>0.060246</td>\n",
       "      <td>0.058773</td>\n",
       "      <td>...</td>\n",
       "      <td>-0.053403</td>\n",
       "      <td>0.028869</td>\n",
       "      <td>-0.003057</td>\n",
       "      <td>-0.026638</td>\n",
       "      <td>-0.058163</td>\n",
       "      <td>-0.055203</td>\n",
       "      <td>-0.007861</td>\n",
       "      <td>-0.061118</td>\n",
       "      <td>4.0</td>\n",
       "      <td>juego</td>\n",
       "    </tr>\n",
       "    <tr>\n",
       "      <th>...</th>\n",
       "      <td>...</td>\n",
       "      <td>...</td>\n",
       "      <td>...</td>\n",
       "      <td>...</td>\n",
       "      <td>...</td>\n",
       "      <td>...</td>\n",
       "      <td>...</td>\n",
       "      <td>...</td>\n",
       "      <td>...</td>\n",
       "      <td>...</td>\n",
       "      <td>...</td>\n",
       "      <td>...</td>\n",
       "      <td>...</td>\n",
       "      <td>...</td>\n",
       "      <td>...</td>\n",
       "      <td>...</td>\n",
       "      <td>...</td>\n",
       "      <td>...</td>\n",
       "      <td>...</td>\n",
       "      <td>...</td>\n",
       "      <td>...</td>\n",
       "    </tr>\n",
       "    <tr>\n",
       "      <th>2995</th>\n",
       "      <td>0.094688</td>\n",
       "      <td>0.005679</td>\n",
       "      <td>0.033949</td>\n",
       "      <td>0.022188</td>\n",
       "      <td>-0.081190</td>\n",
       "      <td>0.032900</td>\n",
       "      <td>-0.024884</td>\n",
       "      <td>0.042659</td>\n",
       "      <td>0.067939</td>\n",
       "      <td>0.010390</td>\n",
       "      <td>...</td>\n",
       "      <td>0.041620</td>\n",
       "      <td>-0.018868</td>\n",
       "      <td>-0.007200</td>\n",
       "      <td>0.002785</td>\n",
       "      <td>0.023341</td>\n",
       "      <td>-0.015587</td>\n",
       "      <td>0.066750</td>\n",
       "      <td>-0.039837</td>\n",
       "      <td>995.0</td>\n",
       "      <td>pelicula</td>\n",
       "    </tr>\n",
       "    <tr>\n",
       "      <th>2996</th>\n",
       "      <td>0.012903</td>\n",
       "      <td>-0.076499</td>\n",
       "      <td>0.004223</td>\n",
       "      <td>0.016400</td>\n",
       "      <td>-0.072026</td>\n",
       "      <td>0.040490</td>\n",
       "      <td>0.026115</td>\n",
       "      <td>-0.013240</td>\n",
       "      <td>0.019930</td>\n",
       "      <td>-0.015047</td>\n",
       "      <td>...</td>\n",
       "      <td>0.007965</td>\n",
       "      <td>-0.008668</td>\n",
       "      <td>-0.010873</td>\n",
       "      <td>-0.024861</td>\n",
       "      <td>-0.052551</td>\n",
       "      <td>0.031445</td>\n",
       "      <td>0.042686</td>\n",
       "      <td>-0.038097</td>\n",
       "      <td>996.0</td>\n",
       "      <td>pelicula</td>\n",
       "    </tr>\n",
       "    <tr>\n",
       "      <th>2997</th>\n",
       "      <td>-0.020377</td>\n",
       "      <td>-0.004738</td>\n",
       "      <td>0.006126</td>\n",
       "      <td>0.030710</td>\n",
       "      <td>-0.066414</td>\n",
       "      <td>-0.013004</td>\n",
       "      <td>-0.067743</td>\n",
       "      <td>-0.039744</td>\n",
       "      <td>0.031397</td>\n",
       "      <td>0.039048</td>\n",
       "      <td>...</td>\n",
       "      <td>0.017172</td>\n",
       "      <td>0.019270</td>\n",
       "      <td>-0.051282</td>\n",
       "      <td>0.024418</td>\n",
       "      <td>-0.053818</td>\n",
       "      <td>0.012994</td>\n",
       "      <td>0.043990</td>\n",
       "      <td>-0.013857</td>\n",
       "      <td>997.0</td>\n",
       "      <td>pelicula</td>\n",
       "    </tr>\n",
       "    <tr>\n",
       "      <th>2998</th>\n",
       "      <td>0.068452</td>\n",
       "      <td>0.009533</td>\n",
       "      <td>0.028528</td>\n",
       "      <td>-0.033708</td>\n",
       "      <td>-0.077274</td>\n",
       "      <td>0.015580</td>\n",
       "      <td>0.000097</td>\n",
       "      <td>0.006803</td>\n",
       "      <td>0.062297</td>\n",
       "      <td>0.007245</td>\n",
       "      <td>...</td>\n",
       "      <td>0.047684</td>\n",
       "      <td>-0.019694</td>\n",
       "      <td>0.029868</td>\n",
       "      <td>-0.028147</td>\n",
       "      <td>-0.044766</td>\n",
       "      <td>-0.007948</td>\n",
       "      <td>0.055236</td>\n",
       "      <td>-0.055687</td>\n",
       "      <td>998.0</td>\n",
       "      <td>pelicula</td>\n",
       "    </tr>\n",
       "    <tr>\n",
       "      <th>2999</th>\n",
       "      <td>0.027810</td>\n",
       "      <td>-0.048248</td>\n",
       "      <td>-0.002512</td>\n",
       "      <td>-0.045564</td>\n",
       "      <td>-0.063878</td>\n",
       "      <td>0.001651</td>\n",
       "      <td>0.059670</td>\n",
       "      <td>-0.019568</td>\n",
       "      <td>0.048306</td>\n",
       "      <td>0.007889</td>\n",
       "      <td>...</td>\n",
       "      <td>0.011735</td>\n",
       "      <td>-0.010287</td>\n",
       "      <td>-0.018224</td>\n",
       "      <td>0.020022</td>\n",
       "      <td>0.066855</td>\n",
       "      <td>0.026456</td>\n",
       "      <td>0.034191</td>\n",
       "      <td>-0.042594</td>\n",
       "      <td>999.0</td>\n",
       "      <td>pelicula</td>\n",
       "    </tr>\n",
       "  </tbody>\n",
       "</table>\n",
       "<p>3000 rows × 514 columns</p>\n",
       "</div>"
      ],
      "text/plain": [
       "             0         1         2         3         4         5         6  \\\n",
       "0    -0.047936  0.068728 -0.042762 -0.057224  0.037448  0.066649  0.030122   \n",
       "1     0.018236  0.027856 -0.064104  0.003759  0.034112  0.065483 -0.059687   \n",
       "2    -0.015504  0.058139 -0.069847  0.024894  0.042606  0.065332  0.001296   \n",
       "3    -0.008350  0.062483 -0.062257 -0.065673  0.062957  0.065244 -0.044344   \n",
       "4    -0.011809  0.061071 -0.035048 -0.056053  0.055633  0.061631  0.034980   \n",
       "...        ...       ...       ...       ...       ...       ...       ...   \n",
       "2995  0.094688  0.005679  0.033949  0.022188 -0.081190  0.032900 -0.024884   \n",
       "2996  0.012903 -0.076499  0.004223  0.016400 -0.072026  0.040490  0.026115   \n",
       "2997 -0.020377 -0.004738  0.006126  0.030710 -0.066414 -0.013004 -0.067743   \n",
       "2998  0.068452  0.009533  0.028528 -0.033708 -0.077274  0.015580  0.000097   \n",
       "2999  0.027810 -0.048248 -0.002512 -0.045564 -0.063878  0.001651  0.059670   \n",
       "\n",
       "             7         8         9  ...       504       505       506  \\\n",
       "0    -0.056059  0.069155  0.025768  ... -0.052796  0.049141  0.003954   \n",
       "1     0.053690  0.049393  0.020000  ...  0.007075 -0.033128 -0.062432   \n",
       "2     0.009519  0.062509 -0.036491  ... -0.022464 -0.062281  0.008048   \n",
       "3    -0.048647  0.059848 -0.067839  ... -0.025592 -0.009789  0.067237   \n",
       "4    -0.050839  0.060246  0.058773  ... -0.053403  0.028869 -0.003057   \n",
       "...        ...       ...       ...  ...       ...       ...       ...   \n",
       "2995  0.042659  0.067939  0.010390  ...  0.041620 -0.018868 -0.007200   \n",
       "2996 -0.013240  0.019930 -0.015047  ...  0.007965 -0.008668 -0.010873   \n",
       "2997 -0.039744  0.031397  0.039048  ...  0.017172  0.019270 -0.051282   \n",
       "2998  0.006803  0.062297  0.007245  ...  0.047684 -0.019694  0.029868   \n",
       "2999 -0.019568  0.048306  0.007889  ...  0.011735 -0.010287 -0.018224   \n",
       "\n",
       "           507       508       509       510       511  index      tipo  \n",
       "0     0.052749 -0.028988 -0.046117  0.028948 -0.027748    0.0     juego  \n",
       "1    -0.061036 -0.027173 -0.065109  0.056215 -0.057410    1.0     juego  \n",
       "2    -0.052787 -0.031792 -0.052469  0.053836  0.005630    2.0     juego  \n",
       "3     0.024409  0.047927 -0.065013 -0.006761 -0.055704    3.0     juego  \n",
       "4    -0.026638 -0.058163 -0.055203 -0.007861 -0.061118    4.0     juego  \n",
       "...        ...       ...       ...       ...       ...    ...       ...  \n",
       "2995  0.002785  0.023341 -0.015587  0.066750 -0.039837  995.0  pelicula  \n",
       "2996 -0.024861 -0.052551  0.031445  0.042686 -0.038097  996.0  pelicula  \n",
       "2997  0.024418 -0.053818  0.012994  0.043990 -0.013857  997.0  pelicula  \n",
       "2998 -0.028147 -0.044766 -0.007948  0.055236 -0.055687  998.0  pelicula  \n",
       "2999  0.020022  0.066855  0.026456  0.034191 -0.042594  999.0  pelicula  \n",
       "\n",
       "[3000 rows x 514 columns]"
      ]
     },
     "execution_count": 56,
     "metadata": {},
     "output_type": "execute_result"
    }
   ],
   "source": [
    "df_embedings_totales"
   ]
  },
  {
   "cell_type": "code",
   "execution_count": 57,
   "metadata": {},
   "outputs": [
    {
     "data": {
      "text/html": [
       "<style>#sk-container-id-1 {\n",
       "  /* Definition of color scheme common for light and dark mode */\n",
       "  --sklearn-color-text: black;\n",
       "  --sklearn-color-line: gray;\n",
       "  /* Definition of color scheme for unfitted estimators */\n",
       "  --sklearn-color-unfitted-level-0: #fff5e6;\n",
       "  --sklearn-color-unfitted-level-1: #f6e4d2;\n",
       "  --sklearn-color-unfitted-level-2: #ffe0b3;\n",
       "  --sklearn-color-unfitted-level-3: chocolate;\n",
       "  /* Definition of color scheme for fitted estimators */\n",
       "  --sklearn-color-fitted-level-0: #f0f8ff;\n",
       "  --sklearn-color-fitted-level-1: #d4ebff;\n",
       "  --sklearn-color-fitted-level-2: #b3dbfd;\n",
       "  --sklearn-color-fitted-level-3: cornflowerblue;\n",
       "\n",
       "  /* Specific color for light theme */\n",
       "  --sklearn-color-text-on-default-background: var(--sg-text-color, var(--theme-code-foreground, var(--jp-content-font-color1, black)));\n",
       "  --sklearn-color-background: var(--sg-background-color, var(--theme-background, var(--jp-layout-color0, white)));\n",
       "  --sklearn-color-border-box: var(--sg-text-color, var(--theme-code-foreground, var(--jp-content-font-color1, black)));\n",
       "  --sklearn-color-icon: #696969;\n",
       "\n",
       "  @media (prefers-color-scheme: dark) {\n",
       "    /* Redefinition of color scheme for dark theme */\n",
       "    --sklearn-color-text-on-default-background: var(--sg-text-color, var(--theme-code-foreground, var(--jp-content-font-color1, white)));\n",
       "    --sklearn-color-background: var(--sg-background-color, var(--theme-background, var(--jp-layout-color0, #111)));\n",
       "    --sklearn-color-border-box: var(--sg-text-color, var(--theme-code-foreground, var(--jp-content-font-color1, white)));\n",
       "    --sklearn-color-icon: #878787;\n",
       "  }\n",
       "}\n",
       "\n",
       "#sk-container-id-1 {\n",
       "  color: var(--sklearn-color-text);\n",
       "}\n",
       "\n",
       "#sk-container-id-1 pre {\n",
       "  padding: 0;\n",
       "}\n",
       "\n",
       "#sk-container-id-1 input.sk-hidden--visually {\n",
       "  border: 0;\n",
       "  clip: rect(1px 1px 1px 1px);\n",
       "  clip: rect(1px, 1px, 1px, 1px);\n",
       "  height: 1px;\n",
       "  margin: -1px;\n",
       "  overflow: hidden;\n",
       "  padding: 0;\n",
       "  position: absolute;\n",
       "  width: 1px;\n",
       "}\n",
       "\n",
       "#sk-container-id-1 div.sk-dashed-wrapped {\n",
       "  border: 1px dashed var(--sklearn-color-line);\n",
       "  margin: 0 0.4em 0.5em 0.4em;\n",
       "  box-sizing: border-box;\n",
       "  padding-bottom: 0.4em;\n",
       "  background-color: var(--sklearn-color-background);\n",
       "}\n",
       "\n",
       "#sk-container-id-1 div.sk-container {\n",
       "  /* jupyter's `normalize.less` sets `[hidden] { display: none; }`\n",
       "     but bootstrap.min.css set `[hidden] { display: none !important; }`\n",
       "     so we also need the `!important` here to be able to override the\n",
       "     default hidden behavior on the sphinx rendered scikit-learn.org.\n",
       "     See: https://github.com/scikit-learn/scikit-learn/issues/21755 */\n",
       "  display: inline-block !important;\n",
       "  position: relative;\n",
       "}\n",
       "\n",
       "#sk-container-id-1 div.sk-text-repr-fallback {\n",
       "  display: none;\n",
       "}\n",
       "\n",
       "div.sk-parallel-item,\n",
       "div.sk-serial,\n",
       "div.sk-item {\n",
       "  /* draw centered vertical line to link estimators */\n",
       "  background-image: linear-gradient(var(--sklearn-color-text-on-default-background), var(--sklearn-color-text-on-default-background));\n",
       "  background-size: 2px 100%;\n",
       "  background-repeat: no-repeat;\n",
       "  background-position: center center;\n",
       "}\n",
       "\n",
       "/* Parallel-specific style estimator block */\n",
       "\n",
       "#sk-container-id-1 div.sk-parallel-item::after {\n",
       "  content: \"\";\n",
       "  width: 100%;\n",
       "  border-bottom: 2px solid var(--sklearn-color-text-on-default-background);\n",
       "  flex-grow: 1;\n",
       "}\n",
       "\n",
       "#sk-container-id-1 div.sk-parallel {\n",
       "  display: flex;\n",
       "  align-items: stretch;\n",
       "  justify-content: center;\n",
       "  background-color: var(--sklearn-color-background);\n",
       "  position: relative;\n",
       "}\n",
       "\n",
       "#sk-container-id-1 div.sk-parallel-item {\n",
       "  display: flex;\n",
       "  flex-direction: column;\n",
       "}\n",
       "\n",
       "#sk-container-id-1 div.sk-parallel-item:first-child::after {\n",
       "  align-self: flex-end;\n",
       "  width: 50%;\n",
       "}\n",
       "\n",
       "#sk-container-id-1 div.sk-parallel-item:last-child::after {\n",
       "  align-self: flex-start;\n",
       "  width: 50%;\n",
       "}\n",
       "\n",
       "#sk-container-id-1 div.sk-parallel-item:only-child::after {\n",
       "  width: 0;\n",
       "}\n",
       "\n",
       "/* Serial-specific style estimator block */\n",
       "\n",
       "#sk-container-id-1 div.sk-serial {\n",
       "  display: flex;\n",
       "  flex-direction: column;\n",
       "  align-items: center;\n",
       "  background-color: var(--sklearn-color-background);\n",
       "  padding-right: 1em;\n",
       "  padding-left: 1em;\n",
       "}\n",
       "\n",
       "\n",
       "/* Toggleable style: style used for estimator/Pipeline/ColumnTransformer box that is\n",
       "clickable and can be expanded/collapsed.\n",
       "- Pipeline and ColumnTransformer use this feature and define the default style\n",
       "- Estimators will overwrite some part of the style using the `sk-estimator` class\n",
       "*/\n",
       "\n",
       "/* Pipeline and ColumnTransformer style (default) */\n",
       "\n",
       "#sk-container-id-1 div.sk-toggleable {\n",
       "  /* Default theme specific background. It is overwritten whether we have a\n",
       "  specific estimator or a Pipeline/ColumnTransformer */\n",
       "  background-color: var(--sklearn-color-background);\n",
       "}\n",
       "\n",
       "/* Toggleable label */\n",
       "#sk-container-id-1 label.sk-toggleable__label {\n",
       "  cursor: pointer;\n",
       "  display: block;\n",
       "  width: 100%;\n",
       "  margin-bottom: 0;\n",
       "  padding: 0.5em;\n",
       "  box-sizing: border-box;\n",
       "  text-align: center;\n",
       "}\n",
       "\n",
       "#sk-container-id-1 label.sk-toggleable__label-arrow:before {\n",
       "  /* Arrow on the left of the label */\n",
       "  content: \"▸\";\n",
       "  float: left;\n",
       "  margin-right: 0.25em;\n",
       "  color: var(--sklearn-color-icon);\n",
       "}\n",
       "\n",
       "#sk-container-id-1 label.sk-toggleable__label-arrow:hover:before {\n",
       "  color: var(--sklearn-color-text);\n",
       "}\n",
       "\n",
       "/* Toggleable content - dropdown */\n",
       "\n",
       "#sk-container-id-1 div.sk-toggleable__content {\n",
       "  max-height: 0;\n",
       "  max-width: 0;\n",
       "  overflow: hidden;\n",
       "  text-align: left;\n",
       "  /* unfitted */\n",
       "  background-color: var(--sklearn-color-unfitted-level-0);\n",
       "}\n",
       "\n",
       "#sk-container-id-1 div.sk-toggleable__content.fitted {\n",
       "  /* fitted */\n",
       "  background-color: var(--sklearn-color-fitted-level-0);\n",
       "}\n",
       "\n",
       "#sk-container-id-1 div.sk-toggleable__content pre {\n",
       "  margin: 0.2em;\n",
       "  border-radius: 0.25em;\n",
       "  color: var(--sklearn-color-text);\n",
       "  /* unfitted */\n",
       "  background-color: var(--sklearn-color-unfitted-level-0);\n",
       "}\n",
       "\n",
       "#sk-container-id-1 div.sk-toggleable__content.fitted pre {\n",
       "  /* unfitted */\n",
       "  background-color: var(--sklearn-color-fitted-level-0);\n",
       "}\n",
       "\n",
       "#sk-container-id-1 input.sk-toggleable__control:checked~div.sk-toggleable__content {\n",
       "  /* Expand drop-down */\n",
       "  max-height: 200px;\n",
       "  max-width: 100%;\n",
       "  overflow: auto;\n",
       "}\n",
       "\n",
       "#sk-container-id-1 input.sk-toggleable__control:checked~label.sk-toggleable__label-arrow:before {\n",
       "  content: \"▾\";\n",
       "}\n",
       "\n",
       "/* Pipeline/ColumnTransformer-specific style */\n",
       "\n",
       "#sk-container-id-1 div.sk-label input.sk-toggleable__control:checked~label.sk-toggleable__label {\n",
       "  color: var(--sklearn-color-text);\n",
       "  background-color: var(--sklearn-color-unfitted-level-2);\n",
       "}\n",
       "\n",
       "#sk-container-id-1 div.sk-label.fitted input.sk-toggleable__control:checked~label.sk-toggleable__label {\n",
       "  background-color: var(--sklearn-color-fitted-level-2);\n",
       "}\n",
       "\n",
       "/* Estimator-specific style */\n",
       "\n",
       "/* Colorize estimator box */\n",
       "#sk-container-id-1 div.sk-estimator input.sk-toggleable__control:checked~label.sk-toggleable__label {\n",
       "  /* unfitted */\n",
       "  background-color: var(--sklearn-color-unfitted-level-2);\n",
       "}\n",
       "\n",
       "#sk-container-id-1 div.sk-estimator.fitted input.sk-toggleable__control:checked~label.sk-toggleable__label {\n",
       "  /* fitted */\n",
       "  background-color: var(--sklearn-color-fitted-level-2);\n",
       "}\n",
       "\n",
       "#sk-container-id-1 div.sk-label label.sk-toggleable__label,\n",
       "#sk-container-id-1 div.sk-label label {\n",
       "  /* The background is the default theme color */\n",
       "  color: var(--sklearn-color-text-on-default-background);\n",
       "}\n",
       "\n",
       "/* On hover, darken the color of the background */\n",
       "#sk-container-id-1 div.sk-label:hover label.sk-toggleable__label {\n",
       "  color: var(--sklearn-color-text);\n",
       "  background-color: var(--sklearn-color-unfitted-level-2);\n",
       "}\n",
       "\n",
       "/* Label box, darken color on hover, fitted */\n",
       "#sk-container-id-1 div.sk-label.fitted:hover label.sk-toggleable__label.fitted {\n",
       "  color: var(--sklearn-color-text);\n",
       "  background-color: var(--sklearn-color-fitted-level-2);\n",
       "}\n",
       "\n",
       "/* Estimator label */\n",
       "\n",
       "#sk-container-id-1 div.sk-label label {\n",
       "  font-family: monospace;\n",
       "  font-weight: bold;\n",
       "  display: inline-block;\n",
       "  line-height: 1.2em;\n",
       "}\n",
       "\n",
       "#sk-container-id-1 div.sk-label-container {\n",
       "  text-align: center;\n",
       "}\n",
       "\n",
       "/* Estimator-specific */\n",
       "#sk-container-id-1 div.sk-estimator {\n",
       "  font-family: monospace;\n",
       "  border: 1px dotted var(--sklearn-color-border-box);\n",
       "  border-radius: 0.25em;\n",
       "  box-sizing: border-box;\n",
       "  margin-bottom: 0.5em;\n",
       "  /* unfitted */\n",
       "  background-color: var(--sklearn-color-unfitted-level-0);\n",
       "}\n",
       "\n",
       "#sk-container-id-1 div.sk-estimator.fitted {\n",
       "  /* fitted */\n",
       "  background-color: var(--sklearn-color-fitted-level-0);\n",
       "}\n",
       "\n",
       "/* on hover */\n",
       "#sk-container-id-1 div.sk-estimator:hover {\n",
       "  /* unfitted */\n",
       "  background-color: var(--sklearn-color-unfitted-level-2);\n",
       "}\n",
       "\n",
       "#sk-container-id-1 div.sk-estimator.fitted:hover {\n",
       "  /* fitted */\n",
       "  background-color: var(--sklearn-color-fitted-level-2);\n",
       "}\n",
       "\n",
       "/* Specification for estimator info (e.g. \"i\" and \"?\") */\n",
       "\n",
       "/* Common style for \"i\" and \"?\" */\n",
       "\n",
       ".sk-estimator-doc-link,\n",
       "a:link.sk-estimator-doc-link,\n",
       "a:visited.sk-estimator-doc-link {\n",
       "  float: right;\n",
       "  font-size: smaller;\n",
       "  line-height: 1em;\n",
       "  font-family: monospace;\n",
       "  background-color: var(--sklearn-color-background);\n",
       "  border-radius: 1em;\n",
       "  height: 1em;\n",
       "  width: 1em;\n",
       "  text-decoration: none !important;\n",
       "  margin-left: 1ex;\n",
       "  /* unfitted */\n",
       "  border: var(--sklearn-color-unfitted-level-1) 1pt solid;\n",
       "  color: var(--sklearn-color-unfitted-level-1);\n",
       "}\n",
       "\n",
       ".sk-estimator-doc-link.fitted,\n",
       "a:link.sk-estimator-doc-link.fitted,\n",
       "a:visited.sk-estimator-doc-link.fitted {\n",
       "  /* fitted */\n",
       "  border: var(--sklearn-color-fitted-level-1) 1pt solid;\n",
       "  color: var(--sklearn-color-fitted-level-1);\n",
       "}\n",
       "\n",
       "/* On hover */\n",
       "div.sk-estimator:hover .sk-estimator-doc-link:hover,\n",
       ".sk-estimator-doc-link:hover,\n",
       "div.sk-label-container:hover .sk-estimator-doc-link:hover,\n",
       ".sk-estimator-doc-link:hover {\n",
       "  /* unfitted */\n",
       "  background-color: var(--sklearn-color-unfitted-level-3);\n",
       "  color: var(--sklearn-color-background);\n",
       "  text-decoration: none;\n",
       "}\n",
       "\n",
       "div.sk-estimator.fitted:hover .sk-estimator-doc-link.fitted:hover,\n",
       ".sk-estimator-doc-link.fitted:hover,\n",
       "div.sk-label-container:hover .sk-estimator-doc-link.fitted:hover,\n",
       ".sk-estimator-doc-link.fitted:hover {\n",
       "  /* fitted */\n",
       "  background-color: var(--sklearn-color-fitted-level-3);\n",
       "  color: var(--sklearn-color-background);\n",
       "  text-decoration: none;\n",
       "}\n",
       "\n",
       "/* Span, style for the box shown on hovering the info icon */\n",
       ".sk-estimator-doc-link span {\n",
       "  display: none;\n",
       "  z-index: 9999;\n",
       "  position: relative;\n",
       "  font-weight: normal;\n",
       "  right: .2ex;\n",
       "  padding: .5ex;\n",
       "  margin: .5ex;\n",
       "  width: min-content;\n",
       "  min-width: 20ex;\n",
       "  max-width: 50ex;\n",
       "  color: var(--sklearn-color-text);\n",
       "  box-shadow: 2pt 2pt 4pt #999;\n",
       "  /* unfitted */\n",
       "  background: var(--sklearn-color-unfitted-level-0);\n",
       "  border: .5pt solid var(--sklearn-color-unfitted-level-3);\n",
       "}\n",
       "\n",
       ".sk-estimator-doc-link.fitted span {\n",
       "  /* fitted */\n",
       "  background: var(--sklearn-color-fitted-level-0);\n",
       "  border: var(--sklearn-color-fitted-level-3);\n",
       "}\n",
       "\n",
       ".sk-estimator-doc-link:hover span {\n",
       "  display: block;\n",
       "}\n",
       "\n",
       "/* \"?\"-specific style due to the `<a>` HTML tag */\n",
       "\n",
       "#sk-container-id-1 a.estimator_doc_link {\n",
       "  float: right;\n",
       "  font-size: 1rem;\n",
       "  line-height: 1em;\n",
       "  font-family: monospace;\n",
       "  background-color: var(--sklearn-color-background);\n",
       "  border-radius: 1rem;\n",
       "  height: 1rem;\n",
       "  width: 1rem;\n",
       "  text-decoration: none;\n",
       "  /* unfitted */\n",
       "  color: var(--sklearn-color-unfitted-level-1);\n",
       "  border: var(--sklearn-color-unfitted-level-1) 1pt solid;\n",
       "}\n",
       "\n",
       "#sk-container-id-1 a.estimator_doc_link.fitted {\n",
       "  /* fitted */\n",
       "  border: var(--sklearn-color-fitted-level-1) 1pt solid;\n",
       "  color: var(--sklearn-color-fitted-level-1);\n",
       "}\n",
       "\n",
       "/* On hover */\n",
       "#sk-container-id-1 a.estimator_doc_link:hover {\n",
       "  /* unfitted */\n",
       "  background-color: var(--sklearn-color-unfitted-level-3);\n",
       "  color: var(--sklearn-color-background);\n",
       "  text-decoration: none;\n",
       "}\n",
       "\n",
       "#sk-container-id-1 a.estimator_doc_link.fitted:hover {\n",
       "  /* fitted */\n",
       "  background-color: var(--sklearn-color-fitted-level-3);\n",
       "}\n",
       "</style><div id=\"sk-container-id-1\" class=\"sk-top-container\"><div class=\"sk-text-repr-fallback\"><pre>Pipeline(steps=[(&#x27;nearestneighbors&#x27;,\n",
       "                 NearestNeighbors(algorithm=&#x27;brute&#x27;, metric=&#x27;cosine&#x27;))])</pre><b>In a Jupyter environment, please rerun this cell to show the HTML representation or trust the notebook. <br />On GitHub, the HTML representation is unable to render, please try loading this page with nbviewer.org.</b></div><div class=\"sk-container\" hidden><div class=\"sk-item sk-dashed-wrapped\"><div class=\"sk-label-container\"><div class=\"sk-label fitted sk-toggleable\"><input class=\"sk-toggleable__control sk-hidden--visually\" id=\"sk-estimator-id-1\" type=\"checkbox\" ><label for=\"sk-estimator-id-1\" class=\"sk-toggleable__label fitted sk-toggleable__label-arrow fitted\">&nbsp;&nbsp;Pipeline<a class=\"sk-estimator-doc-link fitted\" rel=\"noreferrer\" target=\"_blank\" href=\"https://scikit-learn.org/1.5/modules/generated/sklearn.pipeline.Pipeline.html\">?<span>Documentation for Pipeline</span></a><span class=\"sk-estimator-doc-link fitted\">i<span>Fitted</span></span></label><div class=\"sk-toggleable__content fitted\"><pre>Pipeline(steps=[(&#x27;nearestneighbors&#x27;,\n",
       "                 NearestNeighbors(algorithm=&#x27;brute&#x27;, metric=&#x27;cosine&#x27;))])</pre></div> </div></div><div class=\"sk-serial\"><div class=\"sk-item\"><div class=\"sk-estimator fitted sk-toggleable\"><input class=\"sk-toggleable__control sk-hidden--visually\" id=\"sk-estimator-id-2\" type=\"checkbox\" ><label for=\"sk-estimator-id-2\" class=\"sk-toggleable__label fitted sk-toggleable__label-arrow fitted\">&nbsp;NearestNeighbors<a class=\"sk-estimator-doc-link fitted\" rel=\"noreferrer\" target=\"_blank\" href=\"https://scikit-learn.org/1.5/modules/generated/sklearn.neighbors.NearestNeighbors.html\">?<span>Documentation for NearestNeighbors</span></a></label><div class=\"sk-toggleable__content fitted\"><pre>NearestNeighbors(algorithm=&#x27;brute&#x27;, metric=&#x27;cosine&#x27;)</pre></div> </div></div></div></div></div></div>"
      ],
      "text/plain": [
       "Pipeline(steps=[('nearestneighbors',\n",
       "                 NearestNeighbors(algorithm='brute', metric='cosine'))])"
      ]
     },
     "execution_count": 57,
     "metadata": {},
     "output_type": "execute_result"
    }
   ],
   "source": [
    "n_neighbors = 5\n",
    "modelor_recomendador = make_pipeline(NearestNeighbors(n_neighbors=n_neighbors, metric='cosine', algorithm='brute'))\n",
    "modelor_recomendador.fit(df_embedings_totales.drop(columns=['index', 'tipo']))"
   ]
  },
  {
   "cell_type": "code",
   "execution_count": 58,
   "metadata": {},
   "outputs": [],
   "source": [
    "RECOMENDADOR_MODEL_PATH: str = os.path.join(os.getcwd(), 'models', 'modelo_recomendador.pickle')\n",
    "\n",
    "pickle.dump(modelor_recomendador, open(RECOMENDADOR_MODEL_PATH, 'wb'))"
   ]
  },
  {
   "cell_type": "code",
   "execution_count": 62,
   "metadata": {},
   "outputs": [],
   "source": [
    "animo = clasificar_animo('Quiero estar tranquilo')"
   ]
  },
  {
   "cell_type": "code",
   "execution_count": null,
   "metadata": {},
   "outputs": [],
   "source": [
    "user_prompt = f'pelicula de terror psicologico desarrollada en estados unidos, {animo}'"
   ]
  },
  {
   "cell_type": "code",
   "execution_count": 95,
   "metadata": {},
   "outputs": [],
   "source": [
    "def que_hacer (consulta : str):\n",
    "    '''\n",
    "    Devuelve 5 recomendaciones más acordes a la consulta\n",
    "    '''\n",
    "    consulta = embed(consulta).numpy()\n",
    "\n",
    "    # Realizar la búsqueda de los vecinos más cercanos\n",
    "    distances, indices = modelor_recomendador[0].kneighbors(consulta)\n",
    "\n",
    "    for j in range(n_neighbors):\n",
    "        # Obtenemos el índice del vecino más cercano\n",
    "        idx = indices[0][j]\n",
    "        i = df_embedings_totales['index'].iloc[idx]\n",
    "        dataset = df_embedings_totales['tipo'].iloc[idx]\n",
    "\n",
    "        # Dependiendo del dataset, accedemos al DataFrame correspondiente\n",
    "        if dataset == 'juego':\n",
    "            vecino = dataset_juegos['game_name'].iloc[i]\n",
    "        elif dataset == 'libro':\n",
    "            vecino = dataset_libros_resumido['Titulo Principal'].iloc[i]\n",
    "        elif dataset == 'pelicula':\n",
    "            vecino = dataset_peliculas['Title'].iloc[i]\n",
    "        \n",
    "        # Imprimir el vecino y la distancia\n",
    "        print(f\"Vecino {j + 1}: {vecino} - Distancia: {distances[0][j]:.4f} - {dataset}\")\n",
    "\n",
    "    print(\"-\" * 40)"
   ]
  },
  {
   "cell_type": "code",
   "execution_count": 78,
   "metadata": {},
   "outputs": [],
   "source": [
    "def user():\n",
    "    user_prompt = f\"{input('ingrese qué está buscando')}, {animo}\"\n",
    "    que_hacer(user_prompt)"
   ]
  },
  {
   "cell_type": "code",
   "execution_count": 96,
   "metadata": {},
   "outputs": [
    {
     "data": {
      "text/plain": [
       "'libro'"
      ]
     },
     "execution_count": 96,
     "metadata": {},
     "output_type": "execute_result"
    }
   ],
   "source": [
    "df_embedings_totales['tipo'].iloc[1953]"
   ]
  },
  {
   "cell_type": "code",
   "execution_count": 100,
   "metadata": {},
   "outputs": [
    {
     "name": "stdout",
     "output_type": "stream",
     "text": [
      "Vecino 1: The Longest Ride - Distancia: 0.6167 - pelicula\n",
      "Vecino 2: The First Time - Distancia: 0.6568 - pelicula\n",
      "Vecino 3: Tramps - Distancia: 0.6632 - pelicula\n",
      "Vecino 4: The Best of Me - Distancia: 0.6660 - pelicula\n",
      "Vecino 5: (500) Days of Summer - Distancia: 0.6734 - pelicula\n",
      "----------------------------------------\n"
     ]
    }
   ],
   "source": [
    "user()"
   ]
  }
 ],
 "metadata": {
  "kernelspec": {
   "display_name": "myenv",
   "language": "python",
   "name": "python3"
  },
  "language_info": {
   "codemirror_mode": {
    "name": "ipython",
    "version": 3
   },
   "file_extension": ".py",
   "mimetype": "text/x-python",
   "name": "python",
   "nbconvert_exporter": "python",
   "pygments_lexer": "ipython3",
   "version": "3.10.0"
  }
 },
 "nbformat": 4,
 "nbformat_minor": 2
}
