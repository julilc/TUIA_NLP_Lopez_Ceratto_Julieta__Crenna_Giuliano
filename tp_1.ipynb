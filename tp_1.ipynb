{
 "cells": [
  {
   "cell_type": "markdown",
   "metadata": {},
   "source": [
    "# UNR - FCEIA \n",
    "## Tecnicatura Universitaria en Programación \n",
    "### NLP: Trabajo Práctico N°1 \n",
    "\n",
    "---\n",
    "\n",
    "**Integrantes**\n",
    "- López Ceratto, Julieta : L-3311/1\n",
    "- Crenna, Giuliano : C-7438/1"
   ]
  },
  {
   "cell_type": "markdown",
   "metadata": {},
   "source": [
    "# Importamos librerías necesarias"
   ]
  },
  {
   "cell_type": "code",
   "execution_count": 26,
   "metadata": {},
   "outputs": [],
   "source": [
    "import os\n",
    "import pandas as pd\n",
    "import pickle\n",
    "from typing import List, Dict, Any\n",
    "from sklearn.feature_extraction.text import TfidfVectorizer\n",
    "from sklearn.model_selection import train_test_split\n",
    "from sklearn.naive_bayes import MultinomialNB\n",
    "from sklearn.pipeline import make_pipeline\n",
    "from sklearn.metrics import classification_report\n",
    "import tensorflow as tf\n",
    "import tensorflow_text\n",
    "import tensorflow_hub as hub\n",
    "from sklearn.neighbors import NearestNeighbors\n",
    "import numpy as np"
   ]
  },
  {
   "cell_type": "code",
   "execution_count": 3,
   "metadata": {},
   "outputs": [],
   "source": [
    "import warnings\n",
    "warnings.filterwarnings(\"ignore\")"
   ]
  },
  {
   "cell_type": "markdown",
   "metadata": {},
   "source": [
    "# Carga de datasets"
   ]
  },
  {
   "cell_type": "code",
   "execution_count": 7,
   "metadata": {},
   "outputs": [],
   "source": [
    "JUEGOS_PATH: str = os.path.join(os.getcwd(), 'data', 'bgg_database.csv')\n",
    "PELICULAS_PATH: str = os.path.join(os.getcwd(), 'data', 'IMDB-Movie-Data.csv')\n",
    "LIBROS_PATH: str = os.path.join(os.getcwd(), 'data', 'dataset_libros.csv')"
   ]
  },
  {
   "cell_type": "code",
   "execution_count": 8,
   "metadata": {},
   "outputs": [],
   "source": [
    "dataset_juegos: pd.DataFrame = pd.read_csv(JUEGOS_PATH)\n",
    "dataset_peliculas: pd.DataFrame = pd.read_csv(PELICULAS_PATH)\n",
    "dataset_libros: pd.DataFrame = pd.read_csv(LIBROS_PATH)"
   ]
  },
  {
   "cell_type": "markdown",
   "metadata": {},
   "source": [
    "# Modelo de Análisis de Sentimientos"
   ]
  },
  {
   "cell_type": "markdown",
   "metadata": {},
   "source": [
    "Creo un dataset sencillo para entrenar al clasificador."
   ]
  },
  {
   "cell_type": "code",
   "execution_count": 9,
   "metadata": {},
   "outputs": [],
   "source": [
    "ESTADOS_ANIMO_PATH: str = os.path.join(os.getcwd(), 'data', 'estados_de_animo.csv')"
   ]
  },
  {
   "cell_type": "code",
   "execution_count": 10,
   "metadata": {},
   "outputs": [],
   "source": [
    "df_estados_de_animo: pd.DataFrame = pd.read_csv(ESTADOS_ANIMO_PATH)\n",
    "\n",
    "X: pd.Series = df_estados_de_animo['prompt']\n",
    "y: pd.Series = df_estados_de_animo['estado_animo']"
   ]
  },
  {
   "cell_type": "markdown",
   "metadata": {},
   "source": [
    "Hacemos un split de los datos y creamos un pipeline de trabajo utilizando el clasificador **MultinomialNB**."
   ]
  },
  {
   "cell_type": "code",
   "execution_count": 11,
   "metadata": {},
   "outputs": [],
   "source": [
    "X_train, X_test, y_train, y_test = train_test_split(X, y, test_size=0.3, random_state=42)\n",
    "\n",
    "modelo_animo = make_pipeline(TfidfVectorizer(), MultinomialNB())"
   ]
  },
  {
   "cell_type": "code",
   "execution_count": 12,
   "metadata": {},
   "outputs": [
    {
     "name": "stdout",
     "output_type": "stream",
     "text": [
      "              precision    recall  f1-score   support\n",
      "\n",
      "      Alegre       1.00      0.96      0.98        79\n",
      " Melancólico       1.00      1.00      1.00        65\n",
      " Ni fu ni fa       0.96      1.00      0.98        76\n",
      "\n",
      "    accuracy                           0.99       220\n",
      "   macro avg       0.99      0.99      0.99       220\n",
      "weighted avg       0.99      0.99      0.99       220\n",
      "\n"
     ]
    }
   ],
   "source": [
    "modelo_animo.fit(X_train, y_train)\n",
    "\n",
    "y_pred = modelo_animo.predict(X_test)\n",
    "print(classification_report(y_test, y_pred))"
   ]
  },
  {
   "cell_type": "markdown",
   "metadata": {},
   "source": [
    "Creamos una función para clasificar el prompt del usuario."
   ]
  },
  {
   "cell_type": "code",
   "execution_count": 13,
   "metadata": {},
   "outputs": [],
   "source": [
    "def clasificar_animo(prompt_usuario: str) -> str:\n",
    "    estado_animo_predicho = modelo_animo.predict([prompt_usuario])[0]\n",
    "    \n",
    "    return estado_animo_predicho"
   ]
  },
  {
   "cell_type": "code",
   "execution_count": 10,
   "metadata": {},
   "outputs": [
    {
     "name": "stdout",
     "output_type": "stream",
     "text": [
      "Estado de ánimo: Ni fu ni fa\n"
     ]
    }
   ],
   "source": [
    "nuevo_prompt = \"La vida no significa nada\"\n",
    "\n",
    "print(f\"Estado de ánimo: {clasificar_animo(nuevo_prompt)}\")"
   ]
  },
  {
   "cell_type": "code",
   "execution_count": 14,
   "metadata": {},
   "outputs": [
    {
     "name": "stdout",
     "output_type": "stream",
     "text": [
      "Estado de ánimo: Alegre\n"
     ]
    }
   ],
   "source": [
    "nuevo_prompt = \"Me siento feliz\"\n",
    "\n",
    "print(f\"Estado de ánimo: {clasificar_animo(nuevo_prompt)}\")"
   ]
  },
  {
   "cell_type": "code",
   "execution_count": 15,
   "metadata": {},
   "outputs": [
    {
     "name": "stdout",
     "output_type": "stream",
     "text": [
      "Estado de ánimo: Melancólico\n"
     ]
    }
   ],
   "source": [
    "nuevo_prompt = \"El vacio se siente en mi\"\n",
    "\n",
    "print(f\"Estado de ánimo: {clasificar_animo(nuevo_prompt)}\")"
   ]
  },
  {
   "cell_type": "markdown",
   "metadata": {},
   "source": [
    "Exporto el modelo"
   ]
  },
  {
   "cell_type": "code",
   "execution_count": 13,
   "metadata": {},
   "outputs": [],
   "source": [
    "# ESTADO_ANIMO_MODEL_PATH: str = os.path.join(os.getcwd(), 'models', 'modelo_estado_animo.pickle')\n",
    "\n",
    "# pickle.dump(modelo_animo, open(ESTADO_ANIMO_MODEL_PATH, 'wb'))"
   ]
  },
  {
   "cell_type": "markdown",
   "metadata": {},
   "source": [
    "# Análisis Datasets"
   ]
  },
  {
   "cell_type": "markdown",
   "metadata": {},
   "source": [
    "## Análisis Dataset Juegos\n",
    "Como Vemos en el dataset de juegos no se presentan datos nulos."
   ]
  },
  {
   "cell_type": "code",
   "execution_count": 16,
   "metadata": {},
   "outputs": [
    {
     "data": {
      "text/plain": [
       "rank                0\n",
       "game_name           0\n",
       "game_href           0\n",
       "geek_rating         0\n",
       "avg_rating          0\n",
       "num_voters          0\n",
       "description         0\n",
       "yearpublished       0\n",
       "minplayers          0\n",
       "maxplayers          0\n",
       "minplaytime         0\n",
       "maxplaytime         0\n",
       "minage              0\n",
       "avgweight           0\n",
       "best_num_players    0\n",
       "designers           0\n",
       "mechanics           0\n",
       "categories          0\n",
       "dtype: int64"
      ]
     },
     "execution_count": 16,
     "metadata": {},
     "output_type": "execute_result"
    }
   ],
   "source": [
    "dataset_juegos.isna().sum()"
   ]
  },
  {
   "cell_type": "markdown",
   "metadata": {},
   "source": [
    "## Análisis Dataset Películas"
   ]
  },
  {
   "cell_type": "code",
   "execution_count": 17,
   "metadata": {},
   "outputs": [
    {
     "data": {
      "text/plain": [
       "Rank                  0\n",
       "Title                 0\n",
       "Genre                 0\n",
       "Description           0\n",
       "Director              0\n",
       "Actors                0\n",
       "Year                  0\n",
       "Runtime (Minutes)     0\n",
       "Rating                0\n",
       "Votes                 0\n",
       "Revenue (Millions)    0\n",
       "Metascore             0\n",
       "dtype: int64"
      ]
     },
     "execution_count": 17,
     "metadata": {},
     "output_type": "execute_result"
    }
   ],
   "source": [
    "dataset_peliculas.isna().sum()"
   ]
  },
  {
   "cell_type": "markdown",
   "metadata": {},
   "source": [
    "## Dataset Libros\n",
    "De los 5984 libros dentro del dataset, solo 53 tiene titulo secundario y solo 2796 libros tienen un autor registrado."
   ]
  },
  {
   "cell_type": "code",
   "execution_count": 18,
   "metadata": {},
   "outputs": [
    {
     "data": {
      "text/plain": [
       "(5984, 4)"
      ]
     },
     "execution_count": 18,
     "metadata": {},
     "output_type": "execute_result"
    }
   ],
   "source": [
    "dataset_libros.shape"
   ]
  },
  {
   "cell_type": "code",
   "execution_count": 19,
   "metadata": {},
   "outputs": [
    {
     "data": {
      "text/plain": [
       "Titulo Principal        0\n",
       "Titulo Secundario    5931\n",
       "Autor                3188\n",
       "N° Ref                  0\n",
       "dtype: int64"
      ]
     },
     "execution_count": 19,
     "metadata": {},
     "output_type": "execute_result"
    }
   ],
   "source": [
    "dataset_libros.isna().sum()"
   ]
  },
  {
   "cell_type": "markdown",
   "metadata": {},
   "source": [
    "# Apartado 1"
   ]
  },
  {
   "cell_type": "markdown",
   "metadata": {},
   "source": []
  },
  {
   "cell_type": "markdown",
   "metadata": {},
   "source": [
    "## Implementación modelo KNN con encoder de tensorflow"
   ]
  },
  {
   "cell_type": "code",
   "execution_count": 21,
   "metadata": {},
   "outputs": [],
   "source": [
    "# Cargar Universal Sentence Encoder\n",
    "embed = hub.load(\"https://tfhub.dev/google/universal-sentence-encoder-multilingual/3\")"
   ]
  },
  {
   "cell_type": "code",
   "execution_count": 25,
   "metadata": {},
   "outputs": [],
   "source": [
    "embeding_juegos= embed(dataset_juegos['description']).numpy()\n",
    "embeding_libros = embed(dataset_libros['Titulo Principal']).numpy()\n",
    "embeding_peliculas = embed(dataset_peliculas['Description']).numpy()"
   ]
  },
  {
   "cell_type": "code",
   "execution_count": 27,
   "metadata": {},
   "outputs": [],
   "source": [
    "embedings_totales = np.concatenate([embeding_juegos,embeding_libros, embeding_peliculas ])"
   ]
  },
  {
   "cell_type": "code",
   "execution_count": 28,
   "metadata": {},
   "outputs": [
    {
     "data": {
      "text/html": [
       "<style>#sk-container-id-1 {\n",
       "  /* Definition of color scheme common for light and dark mode */\n",
       "  --sklearn-color-text: black;\n",
       "  --sklearn-color-line: gray;\n",
       "  /* Definition of color scheme for unfitted estimators */\n",
       "  --sklearn-color-unfitted-level-0: #fff5e6;\n",
       "  --sklearn-color-unfitted-level-1: #f6e4d2;\n",
       "  --sklearn-color-unfitted-level-2: #ffe0b3;\n",
       "  --sklearn-color-unfitted-level-3: chocolate;\n",
       "  /* Definition of color scheme for fitted estimators */\n",
       "  --sklearn-color-fitted-level-0: #f0f8ff;\n",
       "  --sklearn-color-fitted-level-1: #d4ebff;\n",
       "  --sklearn-color-fitted-level-2: #b3dbfd;\n",
       "  --sklearn-color-fitted-level-3: cornflowerblue;\n",
       "\n",
       "  /* Specific color for light theme */\n",
       "  --sklearn-color-text-on-default-background: var(--sg-text-color, var(--theme-code-foreground, var(--jp-content-font-color1, black)));\n",
       "  --sklearn-color-background: var(--sg-background-color, var(--theme-background, var(--jp-layout-color0, white)));\n",
       "  --sklearn-color-border-box: var(--sg-text-color, var(--theme-code-foreground, var(--jp-content-font-color1, black)));\n",
       "  --sklearn-color-icon: #696969;\n",
       "\n",
       "  @media (prefers-color-scheme: dark) {\n",
       "    /* Redefinition of color scheme for dark theme */\n",
       "    --sklearn-color-text-on-default-background: var(--sg-text-color, var(--theme-code-foreground, var(--jp-content-font-color1, white)));\n",
       "    --sklearn-color-background: var(--sg-background-color, var(--theme-background, var(--jp-layout-color0, #111)));\n",
       "    --sklearn-color-border-box: var(--sg-text-color, var(--theme-code-foreground, var(--jp-content-font-color1, white)));\n",
       "    --sklearn-color-icon: #878787;\n",
       "  }\n",
       "}\n",
       "\n",
       "#sk-container-id-1 {\n",
       "  color: var(--sklearn-color-text);\n",
       "}\n",
       "\n",
       "#sk-container-id-1 pre {\n",
       "  padding: 0;\n",
       "}\n",
       "\n",
       "#sk-container-id-1 input.sk-hidden--visually {\n",
       "  border: 0;\n",
       "  clip: rect(1px 1px 1px 1px);\n",
       "  clip: rect(1px, 1px, 1px, 1px);\n",
       "  height: 1px;\n",
       "  margin: -1px;\n",
       "  overflow: hidden;\n",
       "  padding: 0;\n",
       "  position: absolute;\n",
       "  width: 1px;\n",
       "}\n",
       "\n",
       "#sk-container-id-1 div.sk-dashed-wrapped {\n",
       "  border: 1px dashed var(--sklearn-color-line);\n",
       "  margin: 0 0.4em 0.5em 0.4em;\n",
       "  box-sizing: border-box;\n",
       "  padding-bottom: 0.4em;\n",
       "  background-color: var(--sklearn-color-background);\n",
       "}\n",
       "\n",
       "#sk-container-id-1 div.sk-container {\n",
       "  /* jupyter's `normalize.less` sets `[hidden] { display: none; }`\n",
       "     but bootstrap.min.css set `[hidden] { display: none !important; }`\n",
       "     so we also need the `!important` here to be able to override the\n",
       "     default hidden behavior on the sphinx rendered scikit-learn.org.\n",
       "     See: https://github.com/scikit-learn/scikit-learn/issues/21755 */\n",
       "  display: inline-block !important;\n",
       "  position: relative;\n",
       "}\n",
       "\n",
       "#sk-container-id-1 div.sk-text-repr-fallback {\n",
       "  display: none;\n",
       "}\n",
       "\n",
       "div.sk-parallel-item,\n",
       "div.sk-serial,\n",
       "div.sk-item {\n",
       "  /* draw centered vertical line to link estimators */\n",
       "  background-image: linear-gradient(var(--sklearn-color-text-on-default-background), var(--sklearn-color-text-on-default-background));\n",
       "  background-size: 2px 100%;\n",
       "  background-repeat: no-repeat;\n",
       "  background-position: center center;\n",
       "}\n",
       "\n",
       "/* Parallel-specific style estimator block */\n",
       "\n",
       "#sk-container-id-1 div.sk-parallel-item::after {\n",
       "  content: \"\";\n",
       "  width: 100%;\n",
       "  border-bottom: 2px solid var(--sklearn-color-text-on-default-background);\n",
       "  flex-grow: 1;\n",
       "}\n",
       "\n",
       "#sk-container-id-1 div.sk-parallel {\n",
       "  display: flex;\n",
       "  align-items: stretch;\n",
       "  justify-content: center;\n",
       "  background-color: var(--sklearn-color-background);\n",
       "  position: relative;\n",
       "}\n",
       "\n",
       "#sk-container-id-1 div.sk-parallel-item {\n",
       "  display: flex;\n",
       "  flex-direction: column;\n",
       "}\n",
       "\n",
       "#sk-container-id-1 div.sk-parallel-item:first-child::after {\n",
       "  align-self: flex-end;\n",
       "  width: 50%;\n",
       "}\n",
       "\n",
       "#sk-container-id-1 div.sk-parallel-item:last-child::after {\n",
       "  align-self: flex-start;\n",
       "  width: 50%;\n",
       "}\n",
       "\n",
       "#sk-container-id-1 div.sk-parallel-item:only-child::after {\n",
       "  width: 0;\n",
       "}\n",
       "\n",
       "/* Serial-specific style estimator block */\n",
       "\n",
       "#sk-container-id-1 div.sk-serial {\n",
       "  display: flex;\n",
       "  flex-direction: column;\n",
       "  align-items: center;\n",
       "  background-color: var(--sklearn-color-background);\n",
       "  padding-right: 1em;\n",
       "  padding-left: 1em;\n",
       "}\n",
       "\n",
       "\n",
       "/* Toggleable style: style used for estimator/Pipeline/ColumnTransformer box that is\n",
       "clickable and can be expanded/collapsed.\n",
       "- Pipeline and ColumnTransformer use this feature and define the default style\n",
       "- Estimators will overwrite some part of the style using the `sk-estimator` class\n",
       "*/\n",
       "\n",
       "/* Pipeline and ColumnTransformer style (default) */\n",
       "\n",
       "#sk-container-id-1 div.sk-toggleable {\n",
       "  /* Default theme specific background. It is overwritten whether we have a\n",
       "  specific estimator or a Pipeline/ColumnTransformer */\n",
       "  background-color: var(--sklearn-color-background);\n",
       "}\n",
       "\n",
       "/* Toggleable label */\n",
       "#sk-container-id-1 label.sk-toggleable__label {\n",
       "  cursor: pointer;\n",
       "  display: block;\n",
       "  width: 100%;\n",
       "  margin-bottom: 0;\n",
       "  padding: 0.5em;\n",
       "  box-sizing: border-box;\n",
       "  text-align: center;\n",
       "}\n",
       "\n",
       "#sk-container-id-1 label.sk-toggleable__label-arrow:before {\n",
       "  /* Arrow on the left of the label */\n",
       "  content: \"▸\";\n",
       "  float: left;\n",
       "  margin-right: 0.25em;\n",
       "  color: var(--sklearn-color-icon);\n",
       "}\n",
       "\n",
       "#sk-container-id-1 label.sk-toggleable__label-arrow:hover:before {\n",
       "  color: var(--sklearn-color-text);\n",
       "}\n",
       "\n",
       "/* Toggleable content - dropdown */\n",
       "\n",
       "#sk-container-id-1 div.sk-toggleable__content {\n",
       "  max-height: 0;\n",
       "  max-width: 0;\n",
       "  overflow: hidden;\n",
       "  text-align: left;\n",
       "  /* unfitted */\n",
       "  background-color: var(--sklearn-color-unfitted-level-0);\n",
       "}\n",
       "\n",
       "#sk-container-id-1 div.sk-toggleable__content.fitted {\n",
       "  /* fitted */\n",
       "  background-color: var(--sklearn-color-fitted-level-0);\n",
       "}\n",
       "\n",
       "#sk-container-id-1 div.sk-toggleable__content pre {\n",
       "  margin: 0.2em;\n",
       "  border-radius: 0.25em;\n",
       "  color: var(--sklearn-color-text);\n",
       "  /* unfitted */\n",
       "  background-color: var(--sklearn-color-unfitted-level-0);\n",
       "}\n",
       "\n",
       "#sk-container-id-1 div.sk-toggleable__content.fitted pre {\n",
       "  /* unfitted */\n",
       "  background-color: var(--sklearn-color-fitted-level-0);\n",
       "}\n",
       "\n",
       "#sk-container-id-1 input.sk-toggleable__control:checked~div.sk-toggleable__content {\n",
       "  /* Expand drop-down */\n",
       "  max-height: 200px;\n",
       "  max-width: 100%;\n",
       "  overflow: auto;\n",
       "}\n",
       "\n",
       "#sk-container-id-1 input.sk-toggleable__control:checked~label.sk-toggleable__label-arrow:before {\n",
       "  content: \"▾\";\n",
       "}\n",
       "\n",
       "/* Pipeline/ColumnTransformer-specific style */\n",
       "\n",
       "#sk-container-id-1 div.sk-label input.sk-toggleable__control:checked~label.sk-toggleable__label {\n",
       "  color: var(--sklearn-color-text);\n",
       "  background-color: var(--sklearn-color-unfitted-level-2);\n",
       "}\n",
       "\n",
       "#sk-container-id-1 div.sk-label.fitted input.sk-toggleable__control:checked~label.sk-toggleable__label {\n",
       "  background-color: var(--sklearn-color-fitted-level-2);\n",
       "}\n",
       "\n",
       "/* Estimator-specific style */\n",
       "\n",
       "/* Colorize estimator box */\n",
       "#sk-container-id-1 div.sk-estimator input.sk-toggleable__control:checked~label.sk-toggleable__label {\n",
       "  /* unfitted */\n",
       "  background-color: var(--sklearn-color-unfitted-level-2);\n",
       "}\n",
       "\n",
       "#sk-container-id-1 div.sk-estimator.fitted input.sk-toggleable__control:checked~label.sk-toggleable__label {\n",
       "  /* fitted */\n",
       "  background-color: var(--sklearn-color-fitted-level-2);\n",
       "}\n",
       "\n",
       "#sk-container-id-1 div.sk-label label.sk-toggleable__label,\n",
       "#sk-container-id-1 div.sk-label label {\n",
       "  /* The background is the default theme color */\n",
       "  color: var(--sklearn-color-text-on-default-background);\n",
       "}\n",
       "\n",
       "/* On hover, darken the color of the background */\n",
       "#sk-container-id-1 div.sk-label:hover label.sk-toggleable__label {\n",
       "  color: var(--sklearn-color-text);\n",
       "  background-color: var(--sklearn-color-unfitted-level-2);\n",
       "}\n",
       "\n",
       "/* Label box, darken color on hover, fitted */\n",
       "#sk-container-id-1 div.sk-label.fitted:hover label.sk-toggleable__label.fitted {\n",
       "  color: var(--sklearn-color-text);\n",
       "  background-color: var(--sklearn-color-fitted-level-2);\n",
       "}\n",
       "\n",
       "/* Estimator label */\n",
       "\n",
       "#sk-container-id-1 div.sk-label label {\n",
       "  font-family: monospace;\n",
       "  font-weight: bold;\n",
       "  display: inline-block;\n",
       "  line-height: 1.2em;\n",
       "}\n",
       "\n",
       "#sk-container-id-1 div.sk-label-container {\n",
       "  text-align: center;\n",
       "}\n",
       "\n",
       "/* Estimator-specific */\n",
       "#sk-container-id-1 div.sk-estimator {\n",
       "  font-family: monospace;\n",
       "  border: 1px dotted var(--sklearn-color-border-box);\n",
       "  border-radius: 0.25em;\n",
       "  box-sizing: border-box;\n",
       "  margin-bottom: 0.5em;\n",
       "  /* unfitted */\n",
       "  background-color: var(--sklearn-color-unfitted-level-0);\n",
       "}\n",
       "\n",
       "#sk-container-id-1 div.sk-estimator.fitted {\n",
       "  /* fitted */\n",
       "  background-color: var(--sklearn-color-fitted-level-0);\n",
       "}\n",
       "\n",
       "/* on hover */\n",
       "#sk-container-id-1 div.sk-estimator:hover {\n",
       "  /* unfitted */\n",
       "  background-color: var(--sklearn-color-unfitted-level-2);\n",
       "}\n",
       "\n",
       "#sk-container-id-1 div.sk-estimator.fitted:hover {\n",
       "  /* fitted */\n",
       "  background-color: var(--sklearn-color-fitted-level-2);\n",
       "}\n",
       "\n",
       "/* Specification for estimator info (e.g. \"i\" and \"?\") */\n",
       "\n",
       "/* Common style for \"i\" and \"?\" */\n",
       "\n",
       ".sk-estimator-doc-link,\n",
       "a:link.sk-estimator-doc-link,\n",
       "a:visited.sk-estimator-doc-link {\n",
       "  float: right;\n",
       "  font-size: smaller;\n",
       "  line-height: 1em;\n",
       "  font-family: monospace;\n",
       "  background-color: var(--sklearn-color-background);\n",
       "  border-radius: 1em;\n",
       "  height: 1em;\n",
       "  width: 1em;\n",
       "  text-decoration: none !important;\n",
       "  margin-left: 1ex;\n",
       "  /* unfitted */\n",
       "  border: var(--sklearn-color-unfitted-level-1) 1pt solid;\n",
       "  color: var(--sklearn-color-unfitted-level-1);\n",
       "}\n",
       "\n",
       ".sk-estimator-doc-link.fitted,\n",
       "a:link.sk-estimator-doc-link.fitted,\n",
       "a:visited.sk-estimator-doc-link.fitted {\n",
       "  /* fitted */\n",
       "  border: var(--sklearn-color-fitted-level-1) 1pt solid;\n",
       "  color: var(--sklearn-color-fitted-level-1);\n",
       "}\n",
       "\n",
       "/* On hover */\n",
       "div.sk-estimator:hover .sk-estimator-doc-link:hover,\n",
       ".sk-estimator-doc-link:hover,\n",
       "div.sk-label-container:hover .sk-estimator-doc-link:hover,\n",
       ".sk-estimator-doc-link:hover {\n",
       "  /* unfitted */\n",
       "  background-color: var(--sklearn-color-unfitted-level-3);\n",
       "  color: var(--sklearn-color-background);\n",
       "  text-decoration: none;\n",
       "}\n",
       "\n",
       "div.sk-estimator.fitted:hover .sk-estimator-doc-link.fitted:hover,\n",
       ".sk-estimator-doc-link.fitted:hover,\n",
       "div.sk-label-container:hover .sk-estimator-doc-link.fitted:hover,\n",
       ".sk-estimator-doc-link.fitted:hover {\n",
       "  /* fitted */\n",
       "  background-color: var(--sklearn-color-fitted-level-3);\n",
       "  color: var(--sklearn-color-background);\n",
       "  text-decoration: none;\n",
       "}\n",
       "\n",
       "/* Span, style for the box shown on hovering the info icon */\n",
       ".sk-estimator-doc-link span {\n",
       "  display: none;\n",
       "  z-index: 9999;\n",
       "  position: relative;\n",
       "  font-weight: normal;\n",
       "  right: .2ex;\n",
       "  padding: .5ex;\n",
       "  margin: .5ex;\n",
       "  width: min-content;\n",
       "  min-width: 20ex;\n",
       "  max-width: 50ex;\n",
       "  color: var(--sklearn-color-text);\n",
       "  box-shadow: 2pt 2pt 4pt #999;\n",
       "  /* unfitted */\n",
       "  background: var(--sklearn-color-unfitted-level-0);\n",
       "  border: .5pt solid var(--sklearn-color-unfitted-level-3);\n",
       "}\n",
       "\n",
       ".sk-estimator-doc-link.fitted span {\n",
       "  /* fitted */\n",
       "  background: var(--sklearn-color-fitted-level-0);\n",
       "  border: var(--sklearn-color-fitted-level-3);\n",
       "}\n",
       "\n",
       ".sk-estimator-doc-link:hover span {\n",
       "  display: block;\n",
       "}\n",
       "\n",
       "/* \"?\"-specific style due to the `<a>` HTML tag */\n",
       "\n",
       "#sk-container-id-1 a.estimator_doc_link {\n",
       "  float: right;\n",
       "  font-size: 1rem;\n",
       "  line-height: 1em;\n",
       "  font-family: monospace;\n",
       "  background-color: var(--sklearn-color-background);\n",
       "  border-radius: 1rem;\n",
       "  height: 1rem;\n",
       "  width: 1rem;\n",
       "  text-decoration: none;\n",
       "  /* unfitted */\n",
       "  color: var(--sklearn-color-unfitted-level-1);\n",
       "  border: var(--sklearn-color-unfitted-level-1) 1pt solid;\n",
       "}\n",
       "\n",
       "#sk-container-id-1 a.estimator_doc_link.fitted {\n",
       "  /* fitted */\n",
       "  border: var(--sklearn-color-fitted-level-1) 1pt solid;\n",
       "  color: var(--sklearn-color-fitted-level-1);\n",
       "}\n",
       "\n",
       "/* On hover */\n",
       "#sk-container-id-1 a.estimator_doc_link:hover {\n",
       "  /* unfitted */\n",
       "  background-color: var(--sklearn-color-unfitted-level-3);\n",
       "  color: var(--sklearn-color-background);\n",
       "  text-decoration: none;\n",
       "}\n",
       "\n",
       "#sk-container-id-1 a.estimator_doc_link.fitted:hover {\n",
       "  /* fitted */\n",
       "  background-color: var(--sklearn-color-fitted-level-3);\n",
       "}\n",
       "</style><div id=\"sk-container-id-1\" class=\"sk-top-container\"><div class=\"sk-text-repr-fallback\"><pre>NearestNeighbors(algorithm=&#x27;brute&#x27;, metric=&#x27;cosine&#x27;, n_neighbors=2)</pre><b>In a Jupyter environment, please rerun this cell to show the HTML representation or trust the notebook. <br />On GitHub, the HTML representation is unable to render, please try loading this page with nbviewer.org.</b></div><div class=\"sk-container\" hidden><div class=\"sk-item\"><div class=\"sk-estimator fitted sk-toggleable\"><input class=\"sk-toggleable__control sk-hidden--visually\" id=\"sk-estimator-id-1\" type=\"checkbox\" checked><label for=\"sk-estimator-id-1\" class=\"sk-toggleable__label fitted sk-toggleable__label-arrow fitted\">&nbsp;&nbsp;NearestNeighbors<a class=\"sk-estimator-doc-link fitted\" rel=\"noreferrer\" target=\"_blank\" href=\"https://scikit-learn.org/1.5/modules/generated/sklearn.neighbors.NearestNeighbors.html\">?<span>Documentation for NearestNeighbors</span></a><span class=\"sk-estimator-doc-link fitted\">i<span>Fitted</span></span></label><div class=\"sk-toggleable__content fitted\"><pre>NearestNeighbors(algorithm=&#x27;brute&#x27;, metric=&#x27;cosine&#x27;, n_neighbors=2)</pre></div> </div></div></div></div>"
      ],
      "text/plain": [
       "NearestNeighbors(algorithm='brute', metric='cosine', n_neighbors=2)"
      ]
     },
     "execution_count": 28,
     "metadata": {},
     "output_type": "execute_result"
    }
   ],
   "source": [
    "n_neighbors = 2 \n",
    "knn = NearestNeighbors(n_neighbors=n_neighbors, metric='cosine', algorithm='brute')\n",
    "knn.fit(embedings_totales)"
   ]
  },
  {
   "cell_type": "code",
   "execution_count": 29,
   "metadata": {},
   "outputs": [],
   "source": [
    "consulta = 'Historia de amor en la playa'\n",
    "consulta = embed(consulta).numpy()"
   ]
  },
  {
   "cell_type": "code",
   "execution_count": 31,
   "metadata": {},
   "outputs": [
    {
     "name": "stdout",
     "output_type": "stream",
     "text": [
      "Consulta: [[ 1.05126444e-02  2.67677568e-03  9.77139175e-03  5.74320816e-02\n",
      "  -2.52461750e-02 -3.52786928e-02  1.34940380e-02 -5.84716089e-02\n",
      "  -6.25243112e-02  4.54057716e-02  7.82534480e-02  8.18276778e-02\n",
      "  -4.24334966e-02  9.20067132e-02  1.22572377e-03 -6.46360219e-02\n",
      "   1.54562853e-02 -1.85786635e-02  3.88166122e-02 -7.14329928e-02\n",
      "  -5.63296257e-03 -7.20195053e-03 -3.20562162e-02  1.48534132e-02\n",
      "  -5.17080314e-02  9.38060228e-03 -7.35931052e-03  6.68460503e-02\n",
      "   3.07073034e-02  2.60826740e-02  1.32062370e-02  6.46084771e-02\n",
      "   6.97033033e-02 -1.14155225e-02  2.51888819e-02  2.04776451e-02\n",
      "   4.23050113e-03  9.85113438e-03  9.30242017e-02 -6.85811788e-02\n",
      "  -2.20581088e-02 -9.87384748e-03  2.04637833e-02  1.22530079e-02\n",
      "   1.27155455e-02  1.83917712e-02 -2.07506306e-02 -7.90742505e-03\n",
      "   8.98037478e-03 -4.37534340e-02  4.51561697e-02 -5.42256199e-02\n",
      "   1.07520157e-02  2.01585311e-02 -2.99148522e-02 -5.18651269e-02\n",
      "  -3.59747410e-02 -2.15796311e-03  9.47919935e-02  3.18975970e-02\n",
      "  -2.85974946e-02 -1.26625563e-03  4.71878983e-02 -6.78761974e-02\n",
      "  -3.31713036e-02 -1.48870386e-02 -6.18075468e-02 -5.24477698e-02\n",
      "   2.74912212e-02  1.07221967e-02  4.23442852e-03  8.16827714e-02\n",
      "  -7.44639114e-02 -9.54934880e-02 -5.27406745e-02 -4.06861976e-02\n",
      "  -5.62687404e-02 -4.41467315e-02 -2.54136380e-02  9.05286744e-02\n",
      "  -6.66216090e-02  2.88094506e-02  3.35432636e-03  5.02390228e-02\n",
      "   4.07243632e-02  1.64738800e-02  7.30088800e-02  9.22031235e-03\n",
      "  -4.89104129e-02 -5.10326996e-02 -6.26321277e-03  8.52279440e-02\n",
      "  -6.39946945e-03 -6.97556511e-02  9.30420868e-03  4.89092842e-02\n",
      "   4.42468375e-03 -3.56863327e-02 -3.83522399e-02 -7.28399009e-02\n",
      "   3.72638702e-02  7.72842206e-03  7.57239619e-03  2.08802950e-02\n",
      "   7.34715909e-02 -6.51169121e-02  4.96697873e-02 -1.11711854e-02\n",
      "  -4.51902772e-04 -2.92440057e-02  5.60296513e-02  6.07294589e-02\n",
      "  -2.70647574e-02  5.52215166e-02  2.45183241e-02 -1.44659951e-02\n",
      "  -7.76467845e-02 -4.61025070e-03 -4.75364104e-02  1.91827770e-02\n",
      "   1.52409775e-02  4.53869477e-02  5.61898276e-02 -1.58277326e-05\n",
      "   8.94102752e-02 -2.32831817e-02 -4.19713706e-02  7.14030042e-02\n",
      "   1.55179091e-02 -1.47567666e-03  1.97496563e-02  3.55454981e-02\n",
      "  -3.44698690e-02  9.30641070e-02 -3.01595218e-02 -6.47952314e-03\n",
      "   5.46999946e-02 -7.51094412e-05  3.43205929e-02  8.01012367e-02\n",
      "   2.23961864e-02 -3.44305038e-02 -4.12942991e-02  6.29086494e-02\n",
      "  -6.84675202e-03  2.16496848e-02 -7.16620311e-02 -4.43806462e-02\n",
      "  -1.48471389e-02  6.74451441e-02  4.61387038e-02  1.38389533e-02\n",
      "  -4.67095450e-02 -8.80033989e-03 -8.74677971e-02 -8.88121277e-02\n",
      "  -3.73244025e-02  1.53760100e-02 -2.87626758e-02  3.81870307e-02\n",
      "   7.90862832e-03  7.16017112e-02 -2.57984437e-02  2.49374248e-02\n",
      "  -1.46271745e-02  1.03866113e-02 -5.77751826e-03  7.63110667e-02\n",
      "  -4.61887121e-02 -3.47704738e-02 -1.19905279e-03 -7.14753643e-02\n",
      "  -2.48491224e-02  3.23674493e-02  2.34732460e-02 -7.53066018e-02\n",
      "   2.08053272e-02 -5.53154796e-02  5.71933165e-02 -1.62995644e-02\n",
      "   3.64460424e-02  4.09049951e-02 -3.33793238e-02 -3.11728939e-02\n",
      "   3.19245569e-02 -2.76647485e-03  4.23215665e-02  1.24664372e-03\n",
      "  -6.35490799e-03 -4.83312681e-02  4.57978360e-02 -3.69412377e-02\n",
      "  -1.41780823e-02 -4.77962606e-02  4.51767929e-02  2.14808006e-02\n",
      "  -1.35149192e-02  1.79493297e-02  4.32813913e-02  2.83440631e-02\n",
      "   3.75501439e-02  5.22304587e-02  6.98136240e-02 -8.49488843e-03\n",
      "  -7.38333091e-02 -5.55948205e-02  9.21761524e-03 -6.37021363e-02\n",
      "  -1.74156986e-02 -9.88083053e-03 -2.24449709e-02  3.39973904e-02\n",
      "   8.02881047e-02 -4.10905527e-03  6.40849164e-03 -1.10366410e-02\n",
      "  -2.18476169e-02  5.06132245e-02 -7.20223710e-02 -3.27699706e-02\n",
      "   5.63766211e-02 -7.35046016e-03  7.15322867e-02  2.35433392e-02\n",
      "   6.84545413e-02  5.86816669e-02 -3.28476913e-02 -1.38420593e-02\n",
      "  -2.49141827e-02  5.39425341e-03  5.73270582e-02 -5.39216474e-02\n",
      "   6.12297431e-02 -7.57915303e-02 -6.51234237e-04  1.81200709e-02\n",
      "  -4.78164405e-02 -5.93912825e-02 -3.71565074e-02  3.74923125e-02\n",
      "  -2.16221400e-02 -2.78166272e-02 -2.03662016e-03  9.57811847e-02\n",
      "   2.58593708e-02  5.98466769e-02 -3.15745249e-02 -7.31261820e-02\n",
      "  -4.77056485e-03  1.20783038e-02  9.76106226e-02 -2.48506889e-02\n",
      "  -3.50468084e-02  7.20972121e-02  2.31529493e-02  3.75911556e-02\n",
      "  -8.87536164e-03  5.00216484e-02 -6.13580272e-02 -3.13382596e-02\n",
      "   2.90713161e-02 -3.42929661e-02  5.85918948e-02  7.52274878e-03\n",
      "  -7.52484351e-02 -3.51911224e-02  8.91572312e-02  3.46685387e-02\n",
      "  -7.91886970e-02 -7.32879862e-02  1.23653533e-02 -6.88225254e-02\n",
      "  -9.23684388e-02  4.36015762e-02  3.18706743e-02  5.58286114e-03\n",
      "  -3.40516068e-04 -1.63634252e-02  2.10894570e-02  6.91117626e-03\n",
      "  -5.45177795e-02 -3.23430635e-02 -8.84898230e-02 -2.24709697e-02\n",
      "  -2.02976819e-02 -7.98118189e-02  5.43251634e-02  2.75375210e-02\n",
      "   1.45407477e-02  2.94274837e-02  2.31495276e-02  1.92209426e-02\n",
      "   5.15562780e-02  2.25631390e-02  4.33887094e-02 -1.37968333e-02\n",
      "   1.04720220e-02 -3.88654247e-02  9.47335642e-03  2.92868447e-02\n",
      "  -1.68801453e-02  2.73107691e-03  2.20135367e-03 -2.83495989e-02\n",
      "  -4.75647226e-02 -1.39698507e-02  7.17538521e-02 -2.36304551e-02\n",
      "   8.05470869e-02 -5.14593124e-02  4.34582271e-02  5.79996668e-02\n",
      "   1.09748868e-02 -5.07463962e-02  7.39138853e-03  3.16949040e-02\n",
      "  -2.64897794e-02  2.58437414e-02  5.42998239e-02 -2.68889144e-02\n",
      "  -1.74232554e-02  3.00534926e-02  5.11011146e-02  1.84484161e-02\n",
      "  -9.21020433e-02 -1.41792269e-02  2.90089138e-02 -8.23574811e-02\n",
      "   3.37841883e-02 -8.29495693e-05 -8.46829638e-03  9.28047672e-02\n",
      "   2.68978048e-02 -6.84779510e-02 -4.39217389e-02 -4.82094809e-02\n",
      "  -3.49787399e-02 -5.03187776e-02 -2.65821200e-02 -1.47278886e-02\n",
      "  -5.06737940e-02 -1.80713665e-02  3.84669076e-03  1.23330113e-02\n",
      "  -6.06832877e-02 -2.78712492e-02  8.15124437e-02  5.06052040e-02\n",
      "   7.25593492e-02  3.02866986e-03 -4.07196116e-03 -1.56065430e-02\n",
      "  -4.35688496e-02 -4.14849371e-02  3.66658680e-02 -1.67815983e-02\n",
      "   4.53839451e-02  1.11598279e-02 -4.05251049e-02 -1.00733768e-02\n",
      "  -5.39426059e-02  7.31643066e-02  2.39469800e-02  3.00808121e-02\n",
      "  -3.91642116e-02 -3.04466151e-02  3.69335003e-02 -4.39254679e-02\n",
      "  -7.23314509e-02  4.43490259e-02  4.86792587e-02  3.67423370e-02\n",
      "   2.50418903e-04  1.40476469e-02  4.19107527e-02  3.39487717e-02\n",
      "   5.78426048e-02  4.69563296e-04  1.12186177e-02  3.34181003e-02\n",
      "   7.66576082e-02 -7.65613914e-02 -5.97874820e-02 -7.70023419e-03\n",
      "   2.08943821e-02 -3.14186923e-02 -3.31191644e-02 -2.96651032e-02\n",
      "  -9.41826403e-03  7.52993673e-02  6.46195635e-02 -2.74317563e-02\n",
      "  -8.87168292e-03 -4.76911627e-02 -3.30323018e-02  3.69013194e-03\n",
      "   3.05794924e-02 -3.43096070e-02  4.64276001e-02 -1.08782807e-03\n",
      "   8.00506212e-03 -4.19148058e-03  1.57630555e-02 -3.96238677e-02\n",
      "  -5.74981607e-02  3.62733081e-02  1.61743108e-02 -2.75512282e-02\n",
      "   8.66516307e-02 -2.81343330e-02 -1.60036993e-03 -3.27868909e-02\n",
      "   8.92515630e-02 -1.52867669e-02  1.11120827e-02  2.95462739e-02\n",
      "   5.19009717e-02 -9.80708469e-03 -6.77434132e-02 -4.17683832e-02\n",
      "   3.97726567e-03  5.49788140e-02 -1.02755660e-02 -5.94068989e-02\n",
      "   4.53437939e-02  4.20732722e-02 -7.52757713e-02 -2.26981062e-02\n",
      "   6.56362250e-02  3.14934738e-02  4.22049053e-02  2.45883632e-02\n",
      "  -4.58143000e-03 -5.17860651e-02  6.50624633e-02  6.78637698e-02\n",
      "  -2.38254480e-02 -8.06216970e-02 -1.02441234e-03  6.42412230e-02\n",
      "  -4.71850857e-02 -2.05143858e-02  3.22409905e-02 -4.47664857e-02\n",
      "  -1.94751956e-02 -4.48776484e-02  8.39637034e-03  8.25310051e-02\n",
      "  -1.49022117e-02 -7.90593401e-02  6.51057288e-02  6.77740062e-03\n",
      "   4.77916524e-02 -6.71717301e-02  1.67496912e-02  7.75580574e-03\n",
      "  -6.91598952e-02 -1.50705623e-02  6.90628439e-02 -3.03879995e-02\n",
      "   3.16201081e-03  7.21830688e-03  3.51748429e-02 -1.23691270e-02\n",
      "   4.58131991e-02  6.57400116e-02 -1.37232207e-02 -3.20649035e-02\n",
      "  -4.95441966e-02  5.04794195e-02 -6.28998561e-04 -3.99020165e-02\n",
      "   1.96896754e-02  4.86192778e-02 -1.71468202e-02  3.63950357e-02\n",
      "   1.99093651e-02 -3.66650224e-02 -6.57840669e-02  2.49383990e-02\n",
      "   8.75613764e-02  7.05515221e-02  3.52471918e-02 -1.86892897e-02\n",
      "  -5.57732768e-03 -3.50556406e-03  5.45738451e-02 -2.56372206e-02\n",
      "   4.84375991e-02  2.98506506e-02  1.46030542e-02 -7.73240700e-02\n",
      "  -4.03368995e-02  8.58095363e-02 -4.11242098e-02  3.15538086e-02\n",
      "   3.13844122e-02 -2.79881787e-02  2.40984056e-02  4.89194505e-02\n",
      "   4.52815406e-02  7.89940432e-02 -6.46741316e-02 -4.63627130e-02\n",
      "   4.06090505e-02  1.43213347e-02 -1.17667606e-02  6.78819790e-02\n",
      "  -1.89183727e-02 -1.47151612e-02 -6.25827909e-03 -2.27154978e-02]]\n"
     ]
    },
    {
     "ename": "NameError",
     "evalue": "name 'i' is not defined",
     "output_type": "error",
     "traceback": [
      "\u001b[1;31m---------------------------------------------------------------------------\u001b[0m",
      "\u001b[1;31mNameError\u001b[0m                                 Traceback (most recent call last)",
      "Cell \u001b[1;32mIn[31], line 7\u001b[0m\n\u001b[0;32m      5\u001b[0m \u001b[38;5;28mprint\u001b[39m(\u001b[38;5;124mf\u001b[39m\u001b[38;5;124m\"\u001b[39m\u001b[38;5;124mConsulta: \u001b[39m\u001b[38;5;132;01m{\u001b[39;00mconsulta\u001b[38;5;132;01m}\u001b[39;00m\u001b[38;5;124m\"\u001b[39m)\n\u001b[0;32m      6\u001b[0m \u001b[38;5;28;01mfor\u001b[39;00m j \u001b[38;5;129;01min\u001b[39;00m \u001b[38;5;28mrange\u001b[39m(n_neighbors):\n\u001b[1;32m----> 7\u001b[0m     \u001b[38;5;28mprint\u001b[39m(\u001b[38;5;124mf\u001b[39m\u001b[38;5;124m\"\u001b[39m\u001b[38;5;124mVecino \u001b[39m\u001b[38;5;132;01m{\u001b[39;00mj\u001b[38;5;250m \u001b[39m\u001b[38;5;241m+\u001b[39m\u001b[38;5;250m \u001b[39m\u001b[38;5;241m1\u001b[39m\u001b[38;5;132;01m}\u001b[39;00m\u001b[38;5;124m: \u001b[39m\u001b[38;5;132;01m{\u001b[39;00membedings_totales[indices[i][j]]\u001b[38;5;132;01m}\u001b[39;00m\u001b[38;5;124m - Distancia: \u001b[39m\u001b[38;5;132;01m{\u001b[39;00mdistances[i][j]\u001b[38;5;132;01m:\u001b[39;00m\u001b[38;5;124m.4f\u001b[39m\u001b[38;5;132;01m}\u001b[39;00m\u001b[38;5;124m\"\u001b[39m)\n\u001b[0;32m      8\u001b[0m \u001b[38;5;28mprint\u001b[39m(\u001b[38;5;124m\"\u001b[39m\u001b[38;5;124m-\u001b[39m\u001b[38;5;124m\"\u001b[39m \u001b[38;5;241m*\u001b[39m \u001b[38;5;241m40\u001b[39m)\n",
      "\u001b[1;31mNameError\u001b[0m: name 'i' is not defined"
     ]
    }
   ],
   "source": [
    "# Realizamos la búsqueda de los vecinos más cercanos\n",
    "distances, indices = knn.kneighbors(consulta)\n",
    "\n",
    "# Imprimimos los vecinos más cercanos y sus distancias\n",
    "print(f\"Consulta: {consulta}\")\n",
    "for j in range(n_neighbors):\n",
    "    print(f\"Vecino {j + 1}: {embedings_totales[indices[i][j]]} - Distancia: {distances[i][j]:.4f}\")\n",
    "print(\"-\" * 40)"
   ]
  }
 ],
 "metadata": {
  "kernelspec": {
   "display_name": "Python 3",
   "language": "python",
   "name": "python3"
  },
  "language_info": {
   "codemirror_mode": {
    "name": "ipython",
    "version": 3
   },
   "file_extension": ".py",
   "mimetype": "text/x-python",
   "name": "python",
   "nbconvert_exporter": "python",
   "pygments_lexer": "ipython3",
   "version": "3.10.0"
  }
 },
 "nbformat": 4,
 "nbformat_minor": 2
}
