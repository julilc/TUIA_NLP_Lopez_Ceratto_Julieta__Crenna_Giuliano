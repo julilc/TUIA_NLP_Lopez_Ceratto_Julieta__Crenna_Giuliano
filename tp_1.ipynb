{
 "cells": [
  {
   "cell_type": "markdown",
   "metadata": {},
   "source": [
    "# NLP: Trabajo Práctico N°1\n",
    "**Integrantes**\n",
    "- López Ceratto, Julieta : L-3311/1\n",
    "- Crenna, Giuliano : "
   ]
  },
  {
   "cell_type": "markdown",
   "metadata": {},
   "source": [
    "# Importamos librerías necesarias"
   ]
  },
  {
   "cell_type": "code",
   "execution_count": 1,
   "metadata": {},
   "outputs": [
    {
     "name": "stderr",
     "output_type": "stream",
     "text": [
      "C:\\Users\\julil\\AppData\\Local\\Packages\\PythonSoftwareFoundation.Python.3.11_qbz5n2kfra8p0\\LocalCache\\local-packages\\Python311\\site-packages\\sentence_transformers\\cross_encoder\\CrossEncoder.py:13: TqdmExperimentalWarning: Using `tqdm.autonotebook.tqdm` in notebook mode. Use `tqdm.tqdm` instead to force console mode (e.g. in jupyter console)\n",
      "  from tqdm.autonotebook import tqdm, trange\n"
     ]
    },
    {
     "name": "stdout",
     "output_type": "stream",
     "text": [
      "WARNING:tensorflow:From C:\\Users\\julil\\AppData\\Local\\Packages\\PythonSoftwareFoundation.Python.3.11_qbz5n2kfra8p0\\LocalCache\\local-packages\\Python311\\site-packages\\tf_keras\\src\\losses.py:2976: The name tf.losses.sparse_softmax_cross_entropy is deprecated. Please use tf.compat.v1.losses.sparse_softmax_cross_entropy instead.\n",
      "\n"
     ]
    }
   ],
   "source": [
    "from rqst import *"
   ]
  },
  {
   "cell_type": "markdown",
   "metadata": {},
   "source": [
    "# Carga de datasets"
   ]
  },
  {
   "cell_type": "code",
   "execution_count": 2,
   "metadata": {},
   "outputs": [],
   "source": [
    "dataset_juegos = pd.read_csv('./src/bgg_database.csv')\n",
    "dataset_peliculas = pd.read_csv('./src/IMDB-Movie-Data.csv')"
   ]
  },
  {
   "cell_type": "markdown",
   "metadata": {},
   "source": [
    "## Dataset libros"
   ]
  },
  {
   "cell_type": "code",
   "execution_count": 94,
   "metadata": {},
   "outputs": [
    {
     "name": "stderr",
     "output_type": "stream",
     "text": [
      "C:\\Users\\julil\\AppData\\Local\\Packages\\PythonSoftwareFoundation.Python.3.11_qbz5n2kfra8p0\\LocalCache\\local-packages\\Python311\\site-packages\\urllib3\\connectionpool.py:1099: InsecureRequestWarning: Unverified HTTPS request is being made to host 'www.gutenberg.org'. Adding certificate verification is strongly advised. See: https://urllib3.readthedocs.io/en/latest/advanced-usage.html#tls-warnings\n",
      "  warnings.warn(\n"
     ]
    }
   ],
   "source": [
    "ruta_url = 'https://www.gutenberg.org/browse/scores/top1000.php#books-last1'\n",
    "response = requests.get(ruta_url, verify=False)\n",
    "soup = BeautifulSoup(response.text, 'html.parser')\n",
    "ol = soup.findAll('ol')\n",
    "libros = []\n",
    "for libro in ol:\n",
    "    enlaces = libro.findAll('li')\n",
    "    for enlace in enlaces:\n",
    "        libros.append(enlace.text)"
   ]
  },
  {
   "cell_type": "code",
   "execution_count": 96,
   "metadata": {},
   "outputs": [],
   "source": [
    "libros = [libro for libro in libros if libro != '']"
   ]
  },
  {
   "cell_type": "code",
   "execution_count": 97,
   "metadata": {},
   "outputs": [],
   "source": [
    "# Expresión regular para extraer las partes\n",
    "patron_titulo_principal = r'^(.*?)(?:;?\\s?Or,|\\sby|\\s\\()'  # Captura todo hasta \"Or,\" o \"by\" o \"(\" si no hay más\n",
    "patron_titulo_secundario = r';?\\s?Or,?\\s(.*?)\\sby'  # Captura el título secundario si está\n",
    "patron_autor = r'by\\s(.*?)\\s\\('  # Captura el autor si está\n",
    "patron_n_ref = r'\\((\\d+)\\)'  # Captura el número entre paréntesis\n",
    "patron_link = r'\\)\\s(.*)'  # Captura todo después del paréntesis final para el enlace\n",
    "titulo_principal = []\n",
    "titulo_secundario = []\n",
    "autor = []\n",
    "n_ref = []\n",
    "for libro in libros:\n",
    "    # Extraer título principal\n",
    "    titulo = re.search(patron_titulo_principal, libro)\n",
    "    titulo_principal.append(titulo.group(1) if titulo else \"\")\n",
    "\n",
    "    # Extraer título secundario (si existe)\n",
    "    secundario = re.search(patron_titulo_secundario, libro)\n",
    "    titulo_secundario.append(secundario.group(1) if secundario else \"\")\n",
    "\n",
    "    # Extraer autor (si existe)\n",
    "    autor_libro = re.search(patron_autor, libro)\n",
    "    autor.append(autor_libro.group(1) if autor_libro else \"\")\n",
    "\n",
    "    # Extraer número de referencia\n",
    "    ref = re.search(patron_n_ref, libro)\n",
    "    n_ref.append(ref.group(1) if ref else \"\")\n",
    "dataset_libros = pd.DataFrame({\n",
    "    'Titulo Principal': titulo_principal,\n",
    "    'Titulo Secundario': titulo_secundario,\n",
    "    'Autor': autor,\n",
    "    'N° Ref': n_ref,\n",
    "})"
   ]
  },
  {
   "cell_type": "code",
   "execution_count": 98,
   "metadata": {},
   "outputs": [
    {
     "data": {
      "text/html": [
       "<div>\n",
       "<style scoped>\n",
       "    .dataframe tbody tr th:only-of-type {\n",
       "        vertical-align: middle;\n",
       "    }\n",
       "\n",
       "    .dataframe tbody tr th {\n",
       "        vertical-align: top;\n",
       "    }\n",
       "\n",
       "    .dataframe thead th {\n",
       "        text-align: right;\n",
       "    }\n",
       "</style>\n",
       "<table border=\"1\" class=\"dataframe\">\n",
       "  <thead>\n",
       "    <tr style=\"text-align: right;\">\n",
       "      <th></th>\n",
       "      <th>Titulo Principal</th>\n",
       "      <th>Titulo Secundario</th>\n",
       "      <th>Autor</th>\n",
       "      <th>N° Ref</th>\n",
       "    </tr>\n",
       "  </thead>\n",
       "  <tbody>\n",
       "    <tr>\n",
       "      <th>0</th>\n",
       "      <td>Frankenstein</td>\n",
       "      <td>The Modern Prometheus</td>\n",
       "      <td>Mary Wollstonecraft Shelley</td>\n",
       "      <td>6676</td>\n",
       "    </tr>\n",
       "    <tr>\n",
       "      <th>1</th>\n",
       "      <td>Pride and Prejudice</td>\n",
       "      <td></td>\n",
       "      <td>Jane Austen</td>\n",
       "      <td>2961</td>\n",
       "    </tr>\n",
       "    <tr>\n",
       "      <th>2</th>\n",
       "      <td>Moby Dick</td>\n",
       "      <td>The Whale</td>\n",
       "      <td>Dick; Or, The Whale by Herman Melville</td>\n",
       "      <td>2753</td>\n",
       "    </tr>\n",
       "    <tr>\n",
       "      <th>3</th>\n",
       "      <td>Romeo and Juliet</td>\n",
       "      <td></td>\n",
       "      <td>William Shakespeare</td>\n",
       "      <td>2648</td>\n",
       "    </tr>\n",
       "    <tr>\n",
       "      <th>4</th>\n",
       "      <td>The Scarlet Letter</td>\n",
       "      <td></td>\n",
       "      <td>Nathaniel Hawthorne</td>\n",
       "      <td>2429</td>\n",
       "    </tr>\n",
       "    <tr>\n",
       "      <th>...</th>\n",
       "      <td>...</td>\n",
       "      <td>...</td>\n",
       "      <td>...</td>\n",
       "      <td>...</td>\n",
       "    </tr>\n",
       "    <tr>\n",
       "      <th>5995</th>\n",
       "      <td>Laclos, Choderlos de</td>\n",
       "      <td></td>\n",
       "      <td></td>\n",
       "      <td>2704</td>\n",
       "    </tr>\n",
       "    <tr>\n",
       "      <th>5996</th>\n",
       "      <td>Brandes, Georg</td>\n",
       "      <td></td>\n",
       "      <td></td>\n",
       "      <td>2698</td>\n",
       "    </tr>\n",
       "    <tr>\n",
       "      <th>5997</th>\n",
       "      <td>Del Rey, Lester</td>\n",
       "      <td></td>\n",
       "      <td></td>\n",
       "      <td>2697</td>\n",
       "    </tr>\n",
       "    <tr>\n",
       "      <th>5998</th>\n",
       "      <td>Hauff, Wilhelm</td>\n",
       "      <td></td>\n",
       "      <td></td>\n",
       "      <td>2687</td>\n",
       "    </tr>\n",
       "    <tr>\n",
       "      <th>5999</th>\n",
       "      <td>Hill, Grace Livingston</td>\n",
       "      <td></td>\n",
       "      <td></td>\n",
       "      <td>2685</td>\n",
       "    </tr>\n",
       "  </tbody>\n",
       "</table>\n",
       "<p>6000 rows × 4 columns</p>\n",
       "</div>"
      ],
      "text/plain": [
       "            Titulo Principal      Titulo Secundario  \\\n",
       "0               Frankenstein  The Modern Prometheus   \n",
       "1        Pride and Prejudice                          \n",
       "2                  Moby Dick              The Whale   \n",
       "3           Romeo and Juliet                          \n",
       "4         The Scarlet Letter                          \n",
       "...                      ...                    ...   \n",
       "5995    Laclos, Choderlos de                          \n",
       "5996          Brandes, Georg                          \n",
       "5997         Del Rey, Lester                          \n",
       "5998          Hauff, Wilhelm                          \n",
       "5999  Hill, Grace Livingston                          \n",
       "\n",
       "                                       Autor N° Ref  \n",
       "0                Mary Wollstonecraft Shelley   6676  \n",
       "1                                Jane Austen   2961  \n",
       "2     Dick; Or, The Whale by Herman Melville   2753  \n",
       "3                        William Shakespeare   2648  \n",
       "4                        Nathaniel Hawthorne   2429  \n",
       "...                                      ...    ...  \n",
       "5995                                           2704  \n",
       "5996                                           2698  \n",
       "5997                                           2697  \n",
       "5998                                           2687  \n",
       "5999                                           2685  \n",
       "\n",
       "[6000 rows x 4 columns]"
      ]
     },
     "execution_count": 98,
     "metadata": {},
     "output_type": "execute_result"
    }
   ],
   "source": [
    "dataset_libros"
   ]
  },
  {
   "cell_type": "markdown",
   "metadata": {},
   "source": [
    "## Traducciones de Datasets"
   ]
  },
  {
   "cell_type": "code",
   "execution_count": null,
   "metadata": {},
   "outputs": [],
   "source": []
  }
 ],
 "metadata": {
  "kernelspec": {
   "display_name": "Python 3",
   "language": "python",
   "name": "python3"
  },
  "language_info": {
   "codemirror_mode": {
    "name": "ipython",
    "version": 3
   },
   "file_extension": ".py",
   "mimetype": "text/x-python",
   "name": "python",
   "nbconvert_exporter": "python",
   "pygments_lexer": "ipython3",
   "version": "3.11.9"
  }
 },
 "nbformat": 4,
 "nbformat_minor": 2
}
